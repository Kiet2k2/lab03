{
  "nbformat": 4,
  "nbformat_minor": 0,
  "metadata": {
    "colab": {
      "name": "Ontapxstk.ipynb",
      "provenance": [],
      "authorship_tag": "ABX9TyNKh6NBpawjzDShEVR8tUMv",
      "include_colab_link": true
    },
    "kernelspec": {
      "name": "python3",
      "display_name": "Python 3"
    },
    "language_info": {
      "name": "python"
    }
  },
  "cells": [
    {
      "cell_type": "markdown",
      "metadata": {
        "id": "view-in-github",
        "colab_type": "text"
      },
      "source": [
        "<a href=\"https://colab.research.google.com/github/Kiet2k2/phantichdulieu/blob/main/Ontapxstk.ipynb\" target=\"_parent\"><img src=\"https://colab.research.google.com/assets/colab-badge.svg\" alt=\"Open In Colab\"/></a>"
      ]
    },
    {
      "cell_type": "code",
      "execution_count": 2,
      "metadata": {
        "colab": {
          "base_uri": "https://localhost:8080/"
        },
        "id": "miZWRFfkhETd",
        "outputId": "5a99dbb9-b78d-42aa-c300-57f125d0b5f1"
      },
      "outputs": [
        {
          "output_type": "stream",
          "name": "stdout",
          "text": [
            "P(A) =  0.25\n",
            "P(B) =  0.25\n",
            "P(C) =  0.25\n",
            "P(D) =  0.25\n",
            "P(A|E) =  0.5555555555555556\n",
            "P(B|F) =  0.2\n"
          ]
        }
      ],
      "source": [
        "import math\n",
        "import random\n",
        "def chon_nap_chai():\n",
        "  return random.choice([\"Trung thuong\",\"Khong trung thuong\"])\n",
        "A=0\n",
        "B=0\n",
        "C=0\n",
        "D=0\n",
        "E=0\n",
        "F=0\n",
        "for i in range (20):\n",
        "  thu_nhat = chon_nap_chai()\n",
        "  thu_hai = chon_nap_chai()\n",
        "  if thu_nhat == \"Trung thuong\" and thu_hai == \"Trung thuong\":\n",
        "    A+= 1\n",
        "  if thu_nhat == \"Khong trung thuong\" and thu_hai == \"Khong trung thuong\":\n",
        "    B+=1\n",
        "  if thu_nhat == \"Trung thuong\" and thu_hai == \"Khong trung thuong\":\n",
        "    C+=1\n",
        "  if thu_nhat == \"Khong trung thuong\" and thu_hai == \"Trung thuong\":\n",
        "    D+=1\n",
        "  if thu_hai == \"Trung thuong\":\n",
        "    E+=1\n",
        "  if thu_nhat == \"Khong trung thuong\" or thu_hai == \"Khong trung thuong\":\n",
        "    F+=1\n",
        "print(\"P(A) = \",A/20)\n",
        "print(\"P(B) = \",A/20)\n",
        "print(\"P(C) = \",A/20)\n",
        "print(\"P(D) = \",A/20)\n",
        "print(\"P(A|E) = \", A/E)\n",
        "print(\"P(B|F) = \",B/F)"
      ]
    }
  ]
}