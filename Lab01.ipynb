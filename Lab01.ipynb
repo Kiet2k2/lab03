{
  "nbformat": 4,
  "nbformat_minor": 0,
  "metadata": {
    "colab": {
      "name": "Lab01.ipynb",
      "provenance": [],
      "authorship_tag": "ABX9TyN8EVLcn0ozX9mL6uN0BpDh",
      "include_colab_link": true
    },
    "kernelspec": {
      "name": "python3",
      "display_name": "Python 3"
    },
    "language_info": {
      "name": "python"
    }
  },
  "cells": [
    {
      "cell_type": "markdown",
      "metadata": {
        "id": "view-in-github",
        "colab_type": "text"
      },
      "source": [
        "<a href=\"https://colab.research.google.com/github/Kiet2k2/phantichdulieu/blob/main/Lab01.ipynb\" target=\"_parent\"><img src=\"https://colab.research.google.com/assets/colab-badge.svg\" alt=\"Open In Colab\"/></a>"
      ]
    },
    {
      "cell_type": "markdown",
      "source": [
        "# BÀI THỰC HÀNH THAO TÁC DỮ LIỆU"
      ],
      "metadata": {
        "id": "pXHcy3VSa_y3"
      }
    },
    {
      "cell_type": "markdown",
      "source": [
        "Example 1"
      ],
      "metadata": {
        "id": "90LowAeEdLgV"
      }
    },
    {
      "cell_type": "code",
      "source": [
        "arr = [12,-4,7,9]"
      ],
      "metadata": {
        "id": "owh_B96ndOsU"
      },
      "execution_count": null,
      "outputs": []
    },
    {
      "cell_type": "code",
      "source": [
        "type(arr)"
      ],
      "metadata": {
        "colab": {
          "base_uri": "https://localhost:8080/"
        },
        "id": "g_jis8J7dTYV",
        "outputId": "b2e201c9-e9e7-423d-9f4f-6f7eff8711b9"
      },
      "execution_count": null,
      "outputs": [
        {
          "output_type": "execute_result",
          "data": {
            "text/plain": [
              "list"
            ]
          },
          "metadata": {},
          "execution_count": 5
        }
      ]
    },
    {
      "cell_type": "code",
      "source": [
        "print(arr)"
      ],
      "metadata": {
        "colab": {
          "base_uri": "https://localhost:8080/"
        },
        "id": "6J29CyGadeIr",
        "outputId": "56f0bd8d-0162-4580-fd30-0d36e4b1e28c"
      },
      "execution_count": null,
      "outputs": [
        {
          "output_type": "stream",
          "name": "stdout",
          "text": [
            "[12, -4, 7, 9]\n"
          ]
        }
      ]
    },
    {
      "cell_type": "code",
      "source": [
        "arr[0]"
      ],
      "metadata": {
        "colab": {
          "base_uri": "https://localhost:8080/"
        },
        "id": "hmva48HjdrL7",
        "outputId": "4e2c63f7-348f-4342-bd62-8bbc4c577445"
      },
      "execution_count": null,
      "outputs": [
        {
          "output_type": "execute_result",
          "data": {
            "text/plain": [
              "12"
            ]
          },
          "metadata": {},
          "execution_count": 7
        }
      ]
    },
    {
      "cell_type": "code",
      "source": [
        "import pandas as pd #alias\n",
        "s = pd.Series(arr)\n",
        "print (s)"
      ],
      "metadata": {
        "colab": {
          "base_uri": "https://localhost:8080/"
        },
        "id": "XUit9BVAdr2d",
        "outputId": "7930fe98-7fd3-4a8e-9c8b-655fbc49da1c"
      },
      "execution_count": null,
      "outputs": [
        {
          "output_type": "stream",
          "name": "stdout",
          "text": [
            "0    12\n",
            "1    -4\n",
            "2     7\n",
            "3     9\n",
            "dtype: int64\n"
          ]
        }
      ]
    },
    {
      "cell_type": "code",
      "source": [
        "type(s)"
      ],
      "metadata": {
        "colab": {
          "base_uri": "https://localhost:8080/"
        },
        "id": "mLrlWKeNduFj",
        "outputId": "ccdd3aaf-95f2-4b73-843d-0ce0deaaef0d"
      },
      "execution_count": null,
      "outputs": [
        {
          "output_type": "execute_result",
          "data": {
            "text/plain": [
              "pandas.core.series.Series"
            ]
          },
          "metadata": {},
          "execution_count": 9
        }
      ]
    },
    {
      "cell_type": "markdown",
      "source": [
        "Example 2:"
      ],
      "metadata": {
        "id": "2PiwWXYZdwZd"
      }
    },
    {
      "cell_type": "code",
      "source": [
        "import pandas as pd\n",
        "s2 = pd.Series([12,-4,7,9], index=['a', 'b', 'c', 'd'])\n",
        "print (s2)"
      ],
      "metadata": {
        "colab": {
          "base_uri": "https://localhost:8080/"
        },
        "id": "oj0coWuodyFp",
        "outputId": "9d011488-0092-4347-b636-73b99e4d175f"
      },
      "execution_count": null,
      "outputs": [
        {
          "output_type": "stream",
          "name": "stdout",
          "text": [
            "a    12\n",
            "b    -4\n",
            "c     7\n",
            "d     9\n",
            "dtype: int64\n"
          ]
        }
      ]
    },
    {
      "cell_type": "code",
      "source": [
        "s2.values"
      ],
      "metadata": {
        "colab": {
          "base_uri": "https://localhost:8080/"
        },
        "id": "LIQqELqjdzf3",
        "outputId": "184fd589-4de0-4923-d008-59e87b05e1f9"
      },
      "execution_count": null,
      "outputs": [
        {
          "output_type": "execute_result",
          "data": {
            "text/plain": [
              "array([12, -4,  7,  9])"
            ]
          },
          "metadata": {},
          "execution_count": 11
        }
      ]
    },
    {
      "cell_type": "code",
      "source": [
        "s2.index"
      ],
      "metadata": {
        "colab": {
          "base_uri": "https://localhost:8080/"
        },
        "id": "8EbnT9TNd1Mz",
        "outputId": "4b08d5a8-b241-421c-c561-449413580f31"
      },
      "execution_count": null,
      "outputs": [
        {
          "output_type": "execute_result",
          "data": {
            "text/plain": [
              "Index(['a', 'b', 'c', 'd'], dtype='object')"
            ]
          },
          "metadata": {},
          "execution_count": 12
        }
      ]
    },
    {
      "cell_type": "markdown",
      "source": [
        "DataFram"
      ],
      "metadata": {
        "id": "yLWMEVEzd5b8"
      }
    },
    {
      "cell_type": "markdown",
      "source": [
        "Example 3:"
      ],
      "metadata": {
        "id": "C3XKqKesd9n0"
      }
    },
    {
      "cell_type": "code",
      "source": [
        "data ={'color' : ['blue', 'green', 'yellow', 'red', 'white'],\n",
        "\t'object': ['ball', 'pen', 'pencil', 'paper', 'mug'],\n",
        "\t'price': [1.2, 1.0, 0.6,0.9,1.7]}"
      ],
      "metadata": {
        "id": "6klq391ed-_H"
      },
      "execution_count": null,
      "outputs": []
    },
    {
      "cell_type": "code",
      "source": [
        "type(data)"
      ],
      "metadata": {
        "colab": {
          "base_uri": "https://localhost:8080/"
        },
        "id": "X99PL_eWeAsk",
        "outputId": "91a5fe44-2103-4493-b5b1-65e0db7d82e2"
      },
      "execution_count": null,
      "outputs": [
        {
          "output_type": "execute_result",
          "data": {
            "text/plain": [
              "dict"
            ]
          },
          "metadata": {},
          "execution_count": 14
        }
      ]
    },
    {
      "cell_type": "code",
      "source": [
        "frame = pd.DataFrame(data)"
      ],
      "metadata": {
        "id": "Heq-OcjhegUi"
      },
      "execution_count": null,
      "outputs": []
    },
    {
      "cell_type": "code",
      "source": [
        "frame"
      ],
      "metadata": {
        "colab": {
          "base_uri": "https://localhost:8080/",
          "height": 206
        },
        "id": "8Ukf42WKeg_l",
        "outputId": "f957cc3d-4d74-41cb-eef9-8d4dbc5db1c1"
      },
      "execution_count": null,
      "outputs": [
        {
          "output_type": "execute_result",
          "data": {
            "text/plain": [
              "    color  object  price\n",
              "0    blue    ball    1.2\n",
              "1   green     pen    1.0\n",
              "2  yellow  pencil    0.6\n",
              "3     red   paper    0.9\n",
              "4   white     mug    1.7"
            ],
            "text/html": [
              "\n",
              "  <div id=\"df-ca9c4bdd-e08b-4bce-bfb6-d4908fc890c6\">\n",
              "    <div class=\"colab-df-container\">\n",
              "      <div>\n",
              "<style scoped>\n",
              "    .dataframe tbody tr th:only-of-type {\n",
              "        vertical-align: middle;\n",
              "    }\n",
              "\n",
              "    .dataframe tbody tr th {\n",
              "        vertical-align: top;\n",
              "    }\n",
              "\n",
              "    .dataframe thead th {\n",
              "        text-align: right;\n",
              "    }\n",
              "</style>\n",
              "<table border=\"1\" class=\"dataframe\">\n",
              "  <thead>\n",
              "    <tr style=\"text-align: right;\">\n",
              "      <th></th>\n",
              "      <th>color</th>\n",
              "      <th>object</th>\n",
              "      <th>price</th>\n",
              "    </tr>\n",
              "  </thead>\n",
              "  <tbody>\n",
              "    <tr>\n",
              "      <th>0</th>\n",
              "      <td>blue</td>\n",
              "      <td>ball</td>\n",
              "      <td>1.2</td>\n",
              "    </tr>\n",
              "    <tr>\n",
              "      <th>1</th>\n",
              "      <td>green</td>\n",
              "      <td>pen</td>\n",
              "      <td>1.0</td>\n",
              "    </tr>\n",
              "    <tr>\n",
              "      <th>2</th>\n",
              "      <td>yellow</td>\n",
              "      <td>pencil</td>\n",
              "      <td>0.6</td>\n",
              "    </tr>\n",
              "    <tr>\n",
              "      <th>3</th>\n",
              "      <td>red</td>\n",
              "      <td>paper</td>\n",
              "      <td>0.9</td>\n",
              "    </tr>\n",
              "    <tr>\n",
              "      <th>4</th>\n",
              "      <td>white</td>\n",
              "      <td>mug</td>\n",
              "      <td>1.7</td>\n",
              "    </tr>\n",
              "  </tbody>\n",
              "</table>\n",
              "</div>\n",
              "      <button class=\"colab-df-convert\" onclick=\"convertToInteractive('df-ca9c4bdd-e08b-4bce-bfb6-d4908fc890c6')\"\n",
              "              title=\"Convert this dataframe to an interactive table.\"\n",
              "              style=\"display:none;\">\n",
              "        \n",
              "  <svg xmlns=\"http://www.w3.org/2000/svg\" height=\"24px\"viewBox=\"0 0 24 24\"\n",
              "       width=\"24px\">\n",
              "    <path d=\"M0 0h24v24H0V0z\" fill=\"none\"/>\n",
              "    <path d=\"M18.56 5.44l.94 2.06.94-2.06 2.06-.94-2.06-.94-.94-2.06-.94 2.06-2.06.94zm-11 1L8.5 8.5l.94-2.06 2.06-.94-2.06-.94L8.5 2.5l-.94 2.06-2.06.94zm10 10l.94 2.06.94-2.06 2.06-.94-2.06-.94-.94-2.06-.94 2.06-2.06.94z\"/><path d=\"M17.41 7.96l-1.37-1.37c-.4-.4-.92-.59-1.43-.59-.52 0-1.04.2-1.43.59L10.3 9.45l-7.72 7.72c-.78.78-.78 2.05 0 2.83L4 21.41c.39.39.9.59 1.41.59.51 0 1.02-.2 1.41-.59l7.78-7.78 2.81-2.81c.8-.78.8-2.07 0-2.86zM5.41 20L4 18.59l7.72-7.72 1.47 1.35L5.41 20z\"/>\n",
              "  </svg>\n",
              "      </button>\n",
              "      \n",
              "  <style>\n",
              "    .colab-df-container {\n",
              "      display:flex;\n",
              "      flex-wrap:wrap;\n",
              "      gap: 12px;\n",
              "    }\n",
              "\n",
              "    .colab-df-convert {\n",
              "      background-color: #E8F0FE;\n",
              "      border: none;\n",
              "      border-radius: 50%;\n",
              "      cursor: pointer;\n",
              "      display: none;\n",
              "      fill: #1967D2;\n",
              "      height: 32px;\n",
              "      padding: 0 0 0 0;\n",
              "      width: 32px;\n",
              "    }\n",
              "\n",
              "    .colab-df-convert:hover {\n",
              "      background-color: #E2EBFA;\n",
              "      box-shadow: 0px 1px 2px rgba(60, 64, 67, 0.3), 0px 1px 3px 1px rgba(60, 64, 67, 0.15);\n",
              "      fill: #174EA6;\n",
              "    }\n",
              "\n",
              "    [theme=dark] .colab-df-convert {\n",
              "      background-color: #3B4455;\n",
              "      fill: #D2E3FC;\n",
              "    }\n",
              "\n",
              "    [theme=dark] .colab-df-convert:hover {\n",
              "      background-color: #434B5C;\n",
              "      box-shadow: 0px 1px 3px 1px rgba(0, 0, 0, 0.15);\n",
              "      filter: drop-shadow(0px 1px 2px rgba(0, 0, 0, 0.3));\n",
              "      fill: #FFFFFF;\n",
              "    }\n",
              "  </style>\n",
              "\n",
              "      <script>\n",
              "        const buttonEl =\n",
              "          document.querySelector('#df-ca9c4bdd-e08b-4bce-bfb6-d4908fc890c6 button.colab-df-convert');\n",
              "        buttonEl.style.display =\n",
              "          google.colab.kernel.accessAllowed ? 'block' : 'none';\n",
              "\n",
              "        async function convertToInteractive(key) {\n",
              "          const element = document.querySelector('#df-ca9c4bdd-e08b-4bce-bfb6-d4908fc890c6');\n",
              "          const dataTable =\n",
              "            await google.colab.kernel.invokeFunction('convertToInteractive',\n",
              "                                                     [key], {});\n",
              "          if (!dataTable) return;\n",
              "\n",
              "          const docLinkHtml = 'Like what you see? Visit the ' +\n",
              "            '<a target=\"_blank\" href=https://colab.research.google.com/notebooks/data_table.ipynb>data table notebook</a>'\n",
              "            + ' to learn more about interactive tables.';\n",
              "          element.innerHTML = '';\n",
              "          dataTable['output_type'] = 'display_data';\n",
              "          await google.colab.output.renderOutput(dataTable, element);\n",
              "          const docLink = document.createElement('div');\n",
              "          docLink.innerHTML = docLinkHtml;\n",
              "          element.appendChild(docLink);\n",
              "        }\n",
              "      </script>\n",
              "    </div>\n",
              "  </div>\n",
              "  "
            ]
          },
          "metadata": {},
          "execution_count": 16
        }
      ]
    },
    {
      "cell_type": "code",
      "source": [
        "type(frame.color)"
      ],
      "metadata": {
        "colab": {
          "base_uri": "https://localhost:8080/"
        },
        "id": "WcQDTievfK6s",
        "outputId": "dc59def0-9a20-44a3-8181-e0494801b80b"
      },
      "execution_count": null,
      "outputs": [
        {
          "output_type": "execute_result",
          "data": {
            "text/plain": [
              "pandas.core.series.Series"
            ]
          },
          "metadata": {},
          "execution_count": 17
        }
      ]
    },
    {
      "cell_type": "code",
      "source": [
        "frame.color"
      ],
      "metadata": {
        "colab": {
          "base_uri": "https://localhost:8080/"
        },
        "id": "i-67eb99fM5m",
        "outputId": "a6e95d2a-8c90-4cd6-cae3-7b02814f5e46"
      },
      "execution_count": null,
      "outputs": [
        {
          "output_type": "execute_result",
          "data": {
            "text/plain": [
              "0      blue\n",
              "1     green\n",
              "2    yellow\n",
              "3       red\n",
              "4     white\n",
              "Name: color, dtype: object"
            ]
          },
          "metadata": {},
          "execution_count": 18
        }
      ]
    },
    {
      "cell_type": "code",
      "source": [
        "frame['color']"
      ],
      "metadata": {
        "colab": {
          "base_uri": "https://localhost:8080/"
        },
        "id": "O8DzaAeTgnNs",
        "outputId": "7a3c0eec-5af5-4004-a248-9494012dfa03"
      },
      "execution_count": null,
      "outputs": [
        {
          "output_type": "execute_result",
          "data": {
            "text/plain": [
              "0      blue\n",
              "1     green\n",
              "2    yellow\n",
              "3       red\n",
              "4     white\n",
              "Name: color, dtype: object"
            ]
          },
          "metadata": {},
          "execution_count": 19
        }
      ]
    },
    {
      "cell_type": "code",
      "source": [
        "type(data)"
      ],
      "metadata": {
        "colab": {
          "base_uri": "https://localhost:8080/"
        },
        "id": "jYgQdgPdgoml",
        "outputId": "3a288196-2570-4146-8ec5-cd2486f53f94"
      },
      "execution_count": null,
      "outputs": [
        {
          "output_type": "execute_result",
          "data": {
            "text/plain": [
              "dict"
            ]
          },
          "metadata": {},
          "execution_count": 20
        }
      ]
    },
    {
      "cell_type": "markdown",
      "source": [
        "Example 4:"
      ],
      "metadata": {
        "id": "k006mXE1gqC1"
      }
    },
    {
      "cell_type": "code",
      "source": [
        "frame2 = pd.DataFrame (frame, columns = ['object', 'price'])\n",
        "frame2"
      ],
      "metadata": {
        "colab": {
          "base_uri": "https://localhost:8080/",
          "height": 206
        },
        "id": "VhJWV7QfgsG7",
        "outputId": "d12be116-cbb1-4b5e-8f36-3920fe1f2a75"
      },
      "execution_count": null,
      "outputs": [
        {
          "output_type": "execute_result",
          "data": {
            "text/plain": [
              "   object  price\n",
              "0    ball    1.2\n",
              "1     pen    1.0\n",
              "2  pencil    0.6\n",
              "3   paper    0.9\n",
              "4     mug    1.7"
            ],
            "text/html": [
              "\n",
              "  <div id=\"df-7544ab03-bafc-42e5-85cb-c0af5f150617\">\n",
              "    <div class=\"colab-df-container\">\n",
              "      <div>\n",
              "<style scoped>\n",
              "    .dataframe tbody tr th:only-of-type {\n",
              "        vertical-align: middle;\n",
              "    }\n",
              "\n",
              "    .dataframe tbody tr th {\n",
              "        vertical-align: top;\n",
              "    }\n",
              "\n",
              "    .dataframe thead th {\n",
              "        text-align: right;\n",
              "    }\n",
              "</style>\n",
              "<table border=\"1\" class=\"dataframe\">\n",
              "  <thead>\n",
              "    <tr style=\"text-align: right;\">\n",
              "      <th></th>\n",
              "      <th>object</th>\n",
              "      <th>price</th>\n",
              "    </tr>\n",
              "  </thead>\n",
              "  <tbody>\n",
              "    <tr>\n",
              "      <th>0</th>\n",
              "      <td>ball</td>\n",
              "      <td>1.2</td>\n",
              "    </tr>\n",
              "    <tr>\n",
              "      <th>1</th>\n",
              "      <td>pen</td>\n",
              "      <td>1.0</td>\n",
              "    </tr>\n",
              "    <tr>\n",
              "      <th>2</th>\n",
              "      <td>pencil</td>\n",
              "      <td>0.6</td>\n",
              "    </tr>\n",
              "    <tr>\n",
              "      <th>3</th>\n",
              "      <td>paper</td>\n",
              "      <td>0.9</td>\n",
              "    </tr>\n",
              "    <tr>\n",
              "      <th>4</th>\n",
              "      <td>mug</td>\n",
              "      <td>1.7</td>\n",
              "    </tr>\n",
              "  </tbody>\n",
              "</table>\n",
              "</div>\n",
              "      <button class=\"colab-df-convert\" onclick=\"convertToInteractive('df-7544ab03-bafc-42e5-85cb-c0af5f150617')\"\n",
              "              title=\"Convert this dataframe to an interactive table.\"\n",
              "              style=\"display:none;\">\n",
              "        \n",
              "  <svg xmlns=\"http://www.w3.org/2000/svg\" height=\"24px\"viewBox=\"0 0 24 24\"\n",
              "       width=\"24px\">\n",
              "    <path d=\"M0 0h24v24H0V0z\" fill=\"none\"/>\n",
              "    <path d=\"M18.56 5.44l.94 2.06.94-2.06 2.06-.94-2.06-.94-.94-2.06-.94 2.06-2.06.94zm-11 1L8.5 8.5l.94-2.06 2.06-.94-2.06-.94L8.5 2.5l-.94 2.06-2.06.94zm10 10l.94 2.06.94-2.06 2.06-.94-2.06-.94-.94-2.06-.94 2.06-2.06.94z\"/><path d=\"M17.41 7.96l-1.37-1.37c-.4-.4-.92-.59-1.43-.59-.52 0-1.04.2-1.43.59L10.3 9.45l-7.72 7.72c-.78.78-.78 2.05 0 2.83L4 21.41c.39.39.9.59 1.41.59.51 0 1.02-.2 1.41-.59l7.78-7.78 2.81-2.81c.8-.78.8-2.07 0-2.86zM5.41 20L4 18.59l7.72-7.72 1.47 1.35L5.41 20z\"/>\n",
              "  </svg>\n",
              "      </button>\n",
              "      \n",
              "  <style>\n",
              "    .colab-df-container {\n",
              "      display:flex;\n",
              "      flex-wrap:wrap;\n",
              "      gap: 12px;\n",
              "    }\n",
              "\n",
              "    .colab-df-convert {\n",
              "      background-color: #E8F0FE;\n",
              "      border: none;\n",
              "      border-radius: 50%;\n",
              "      cursor: pointer;\n",
              "      display: none;\n",
              "      fill: #1967D2;\n",
              "      height: 32px;\n",
              "      padding: 0 0 0 0;\n",
              "      width: 32px;\n",
              "    }\n",
              "\n",
              "    .colab-df-convert:hover {\n",
              "      background-color: #E2EBFA;\n",
              "      box-shadow: 0px 1px 2px rgba(60, 64, 67, 0.3), 0px 1px 3px 1px rgba(60, 64, 67, 0.15);\n",
              "      fill: #174EA6;\n",
              "    }\n",
              "\n",
              "    [theme=dark] .colab-df-convert {\n",
              "      background-color: #3B4455;\n",
              "      fill: #D2E3FC;\n",
              "    }\n",
              "\n",
              "    [theme=dark] .colab-df-convert:hover {\n",
              "      background-color: #434B5C;\n",
              "      box-shadow: 0px 1px 3px 1px rgba(0, 0, 0, 0.15);\n",
              "      filter: drop-shadow(0px 1px 2px rgba(0, 0, 0, 0.3));\n",
              "      fill: #FFFFFF;\n",
              "    }\n",
              "  </style>\n",
              "\n",
              "      <script>\n",
              "        const buttonEl =\n",
              "          document.querySelector('#df-7544ab03-bafc-42e5-85cb-c0af5f150617 button.colab-df-convert');\n",
              "        buttonEl.style.display =\n",
              "          google.colab.kernel.accessAllowed ? 'block' : 'none';\n",
              "\n",
              "        async function convertToInteractive(key) {\n",
              "          const element = document.querySelector('#df-7544ab03-bafc-42e5-85cb-c0af5f150617');\n",
              "          const dataTable =\n",
              "            await google.colab.kernel.invokeFunction('convertToInteractive',\n",
              "                                                     [key], {});\n",
              "          if (!dataTable) return;\n",
              "\n",
              "          const docLinkHtml = 'Like what you see? Visit the ' +\n",
              "            '<a target=\"_blank\" href=https://colab.research.google.com/notebooks/data_table.ipynb>data table notebook</a>'\n",
              "            + ' to learn more about interactive tables.';\n",
              "          element.innerHTML = '';\n",
              "          dataTable['output_type'] = 'display_data';\n",
              "          await google.colab.output.renderOutput(dataTable, element);\n",
              "          const docLink = document.createElement('div');\n",
              "          docLink.innerHTML = docLinkHtml;\n",
              "          element.appendChild(docLink);\n",
              "        }\n",
              "      </script>\n",
              "    </div>\n",
              "  </div>\n",
              "  "
            ]
          },
          "metadata": {},
          "execution_count": 21
        }
      ]
    },
    {
      "cell_type": "markdown",
      "source": [
        "Example 5: Tạo columns mới với 1 giá trị mặc định ban đầu"
      ],
      "metadata": {
        "id": "oTQVb8yTgz1S"
      }
    },
    {
      "cell_type": "code",
      "source": [
        "frame2['type'] ='normal'\n",
        "frame2"
      ],
      "metadata": {
        "colab": {
          "base_uri": "https://localhost:8080/",
          "height": 206
        },
        "id": "f-w6v8eIg1Rc",
        "outputId": "57a3f994-36ff-47c4-d30a-2a1b17a0a2ec"
      },
      "execution_count": null,
      "outputs": [
        {
          "output_type": "execute_result",
          "data": {
            "text/plain": [
              "   object  price    type\n",
              "0    ball    1.2  normal\n",
              "1     pen    1.0  normal\n",
              "2  pencil    0.6  normal\n",
              "3   paper    0.9  normal\n",
              "4     mug    1.7  normal"
            ],
            "text/html": [
              "\n",
              "  <div id=\"df-f52edbb0-9d5e-4535-b1e5-2aa21e65bec2\">\n",
              "    <div class=\"colab-df-container\">\n",
              "      <div>\n",
              "<style scoped>\n",
              "    .dataframe tbody tr th:only-of-type {\n",
              "        vertical-align: middle;\n",
              "    }\n",
              "\n",
              "    .dataframe tbody tr th {\n",
              "        vertical-align: top;\n",
              "    }\n",
              "\n",
              "    .dataframe thead th {\n",
              "        text-align: right;\n",
              "    }\n",
              "</style>\n",
              "<table border=\"1\" class=\"dataframe\">\n",
              "  <thead>\n",
              "    <tr style=\"text-align: right;\">\n",
              "      <th></th>\n",
              "      <th>object</th>\n",
              "      <th>price</th>\n",
              "      <th>type</th>\n",
              "    </tr>\n",
              "  </thead>\n",
              "  <tbody>\n",
              "    <tr>\n",
              "      <th>0</th>\n",
              "      <td>ball</td>\n",
              "      <td>1.2</td>\n",
              "      <td>normal</td>\n",
              "    </tr>\n",
              "    <tr>\n",
              "      <th>1</th>\n",
              "      <td>pen</td>\n",
              "      <td>1.0</td>\n",
              "      <td>normal</td>\n",
              "    </tr>\n",
              "    <tr>\n",
              "      <th>2</th>\n",
              "      <td>pencil</td>\n",
              "      <td>0.6</td>\n",
              "      <td>normal</td>\n",
              "    </tr>\n",
              "    <tr>\n",
              "      <th>3</th>\n",
              "      <td>paper</td>\n",
              "      <td>0.9</td>\n",
              "      <td>normal</td>\n",
              "    </tr>\n",
              "    <tr>\n",
              "      <th>4</th>\n",
              "      <td>mug</td>\n",
              "      <td>1.7</td>\n",
              "      <td>normal</td>\n",
              "    </tr>\n",
              "  </tbody>\n",
              "</table>\n",
              "</div>\n",
              "      <button class=\"colab-df-convert\" onclick=\"convertToInteractive('df-f52edbb0-9d5e-4535-b1e5-2aa21e65bec2')\"\n",
              "              title=\"Convert this dataframe to an interactive table.\"\n",
              "              style=\"display:none;\">\n",
              "        \n",
              "  <svg xmlns=\"http://www.w3.org/2000/svg\" height=\"24px\"viewBox=\"0 0 24 24\"\n",
              "       width=\"24px\">\n",
              "    <path d=\"M0 0h24v24H0V0z\" fill=\"none\"/>\n",
              "    <path d=\"M18.56 5.44l.94 2.06.94-2.06 2.06-.94-2.06-.94-.94-2.06-.94 2.06-2.06.94zm-11 1L8.5 8.5l.94-2.06 2.06-.94-2.06-.94L8.5 2.5l-.94 2.06-2.06.94zm10 10l.94 2.06.94-2.06 2.06-.94-2.06-.94-.94-2.06-.94 2.06-2.06.94z\"/><path d=\"M17.41 7.96l-1.37-1.37c-.4-.4-.92-.59-1.43-.59-.52 0-1.04.2-1.43.59L10.3 9.45l-7.72 7.72c-.78.78-.78 2.05 0 2.83L4 21.41c.39.39.9.59 1.41.59.51 0 1.02-.2 1.41-.59l7.78-7.78 2.81-2.81c.8-.78.8-2.07 0-2.86zM5.41 20L4 18.59l7.72-7.72 1.47 1.35L5.41 20z\"/>\n",
              "  </svg>\n",
              "      </button>\n",
              "      \n",
              "  <style>\n",
              "    .colab-df-container {\n",
              "      display:flex;\n",
              "      flex-wrap:wrap;\n",
              "      gap: 12px;\n",
              "    }\n",
              "\n",
              "    .colab-df-convert {\n",
              "      background-color: #E8F0FE;\n",
              "      border: none;\n",
              "      border-radius: 50%;\n",
              "      cursor: pointer;\n",
              "      display: none;\n",
              "      fill: #1967D2;\n",
              "      height: 32px;\n",
              "      padding: 0 0 0 0;\n",
              "      width: 32px;\n",
              "    }\n",
              "\n",
              "    .colab-df-convert:hover {\n",
              "      background-color: #E2EBFA;\n",
              "      box-shadow: 0px 1px 2px rgba(60, 64, 67, 0.3), 0px 1px 3px 1px rgba(60, 64, 67, 0.15);\n",
              "      fill: #174EA6;\n",
              "    }\n",
              "\n",
              "    [theme=dark] .colab-df-convert {\n",
              "      background-color: #3B4455;\n",
              "      fill: #D2E3FC;\n",
              "    }\n",
              "\n",
              "    [theme=dark] .colab-df-convert:hover {\n",
              "      background-color: #434B5C;\n",
              "      box-shadow: 0px 1px 3px 1px rgba(0, 0, 0, 0.15);\n",
              "      filter: drop-shadow(0px 1px 2px rgba(0, 0, 0, 0.3));\n",
              "      fill: #FFFFFF;\n",
              "    }\n",
              "  </style>\n",
              "\n",
              "      <script>\n",
              "        const buttonEl =\n",
              "          document.querySelector('#df-f52edbb0-9d5e-4535-b1e5-2aa21e65bec2 button.colab-df-convert');\n",
              "        buttonEl.style.display =\n",
              "          google.colab.kernel.accessAllowed ? 'block' : 'none';\n",
              "\n",
              "        async function convertToInteractive(key) {\n",
              "          const element = document.querySelector('#df-f52edbb0-9d5e-4535-b1e5-2aa21e65bec2');\n",
              "          const dataTable =\n",
              "            await google.colab.kernel.invokeFunction('convertToInteractive',\n",
              "                                                     [key], {});\n",
              "          if (!dataTable) return;\n",
              "\n",
              "          const docLinkHtml = 'Like what you see? Visit the ' +\n",
              "            '<a target=\"_blank\" href=https://colab.research.google.com/notebooks/data_table.ipynb>data table notebook</a>'\n",
              "            + ' to learn more about interactive tables.';\n",
              "          element.innerHTML = '';\n",
              "          dataTable['output_type'] = 'display_data';\n",
              "          await google.colab.output.renderOutput(dataTable, element);\n",
              "          const docLink = document.createElement('div');\n",
              "          docLink.innerHTML = docLinkHtml;\n",
              "          element.appendChild(docLink);\n",
              "        }\n",
              "      </script>\n",
              "    </div>\n",
              "  </div>\n",
              "  "
            ]
          },
          "metadata": {},
          "execution_count": 22
        }
      ]
    },
    {
      "cell_type": "code",
      "source": [
        "len(frame2)"
      ],
      "metadata": {
        "colab": {
          "base_uri": "https://localhost:8080/"
        },
        "id": "aXHAeitlg49n",
        "outputId": "2736bf7d-00e9-411e-f87b-f6086fce4220"
      },
      "execution_count": null,
      "outputs": [
        {
          "output_type": "execute_result",
          "data": {
            "text/plain": [
              "5"
            ]
          },
          "metadata": {},
          "execution_count": 23
        }
      ]
    },
    {
      "cell_type": "code",
      "source": [
        "frame2['price'][0]"
      ],
      "metadata": {
        "colab": {
          "base_uri": "https://localhost:8080/"
        },
        "id": "u2WkokkXg6CP",
        "outputId": "e6833710-d04b-4704-dcb4-7fab92d86e8f"
      },
      "execution_count": null,
      "outputs": [
        {
          "output_type": "execute_result",
          "data": {
            "text/plain": [
              "1.2"
            ]
          },
          "metadata": {},
          "execution_count": 24
        }
      ]
    },
    {
      "cell_type": "markdown",
      "source": [
        "Example 6: Thực hành hàm loc, iloc trong DataFrame"
      ],
      "metadata": {
        "id": "dCw4aGsng7lt"
      }
    },
    {
      "cell_type": "code",
      "source": [
        "for i in range(len(frame2)):\n",
        "  if frame2['price'][i] > 1.0:\n",
        "    frame2.loc[i, 'type'] = 'good' #update ith of column type with a new value\n",
        "frame2"
      ],
      "metadata": {
        "colab": {
          "base_uri": "https://localhost:8080/",
          "height": 206
        },
        "id": "hF9tSK2bg8K3",
        "outputId": "822ca1f7-9e87-4d72-e39c-dde7d256444a"
      },
      "execution_count": null,
      "outputs": [
        {
          "output_type": "execute_result",
          "data": {
            "text/plain": [
              "   object  price    type\n",
              "0    ball    1.2    good\n",
              "1     pen    1.0  normal\n",
              "2  pencil    0.6  normal\n",
              "3   paper    0.9  normal\n",
              "4     mug    1.7    good"
            ],
            "text/html": [
              "\n",
              "  <div id=\"df-18ee0485-fc58-4598-a3fe-afd25f612db3\">\n",
              "    <div class=\"colab-df-container\">\n",
              "      <div>\n",
              "<style scoped>\n",
              "    .dataframe tbody tr th:only-of-type {\n",
              "        vertical-align: middle;\n",
              "    }\n",
              "\n",
              "    .dataframe tbody tr th {\n",
              "        vertical-align: top;\n",
              "    }\n",
              "\n",
              "    .dataframe thead th {\n",
              "        text-align: right;\n",
              "    }\n",
              "</style>\n",
              "<table border=\"1\" class=\"dataframe\">\n",
              "  <thead>\n",
              "    <tr style=\"text-align: right;\">\n",
              "      <th></th>\n",
              "      <th>object</th>\n",
              "      <th>price</th>\n",
              "      <th>type</th>\n",
              "    </tr>\n",
              "  </thead>\n",
              "  <tbody>\n",
              "    <tr>\n",
              "      <th>0</th>\n",
              "      <td>ball</td>\n",
              "      <td>1.2</td>\n",
              "      <td>good</td>\n",
              "    </tr>\n",
              "    <tr>\n",
              "      <th>1</th>\n",
              "      <td>pen</td>\n",
              "      <td>1.0</td>\n",
              "      <td>normal</td>\n",
              "    </tr>\n",
              "    <tr>\n",
              "      <th>2</th>\n",
              "      <td>pencil</td>\n",
              "      <td>0.6</td>\n",
              "      <td>normal</td>\n",
              "    </tr>\n",
              "    <tr>\n",
              "      <th>3</th>\n",
              "      <td>paper</td>\n",
              "      <td>0.9</td>\n",
              "      <td>normal</td>\n",
              "    </tr>\n",
              "    <tr>\n",
              "      <th>4</th>\n",
              "      <td>mug</td>\n",
              "      <td>1.7</td>\n",
              "      <td>good</td>\n",
              "    </tr>\n",
              "  </tbody>\n",
              "</table>\n",
              "</div>\n",
              "      <button class=\"colab-df-convert\" onclick=\"convertToInteractive('df-18ee0485-fc58-4598-a3fe-afd25f612db3')\"\n",
              "              title=\"Convert this dataframe to an interactive table.\"\n",
              "              style=\"display:none;\">\n",
              "        \n",
              "  <svg xmlns=\"http://www.w3.org/2000/svg\" height=\"24px\"viewBox=\"0 0 24 24\"\n",
              "       width=\"24px\">\n",
              "    <path d=\"M0 0h24v24H0V0z\" fill=\"none\"/>\n",
              "    <path d=\"M18.56 5.44l.94 2.06.94-2.06 2.06-.94-2.06-.94-.94-2.06-.94 2.06-2.06.94zm-11 1L8.5 8.5l.94-2.06 2.06-.94-2.06-.94L8.5 2.5l-.94 2.06-2.06.94zm10 10l.94 2.06.94-2.06 2.06-.94-2.06-.94-.94-2.06-.94 2.06-2.06.94z\"/><path d=\"M17.41 7.96l-1.37-1.37c-.4-.4-.92-.59-1.43-.59-.52 0-1.04.2-1.43.59L10.3 9.45l-7.72 7.72c-.78.78-.78 2.05 0 2.83L4 21.41c.39.39.9.59 1.41.59.51 0 1.02-.2 1.41-.59l7.78-7.78 2.81-2.81c.8-.78.8-2.07 0-2.86zM5.41 20L4 18.59l7.72-7.72 1.47 1.35L5.41 20z\"/>\n",
              "  </svg>\n",
              "      </button>\n",
              "      \n",
              "  <style>\n",
              "    .colab-df-container {\n",
              "      display:flex;\n",
              "      flex-wrap:wrap;\n",
              "      gap: 12px;\n",
              "    }\n",
              "\n",
              "    .colab-df-convert {\n",
              "      background-color: #E8F0FE;\n",
              "      border: none;\n",
              "      border-radius: 50%;\n",
              "      cursor: pointer;\n",
              "      display: none;\n",
              "      fill: #1967D2;\n",
              "      height: 32px;\n",
              "      padding: 0 0 0 0;\n",
              "      width: 32px;\n",
              "    }\n",
              "\n",
              "    .colab-df-convert:hover {\n",
              "      background-color: #E2EBFA;\n",
              "      box-shadow: 0px 1px 2px rgba(60, 64, 67, 0.3), 0px 1px 3px 1px rgba(60, 64, 67, 0.15);\n",
              "      fill: #174EA6;\n",
              "    }\n",
              "\n",
              "    [theme=dark] .colab-df-convert {\n",
              "      background-color: #3B4455;\n",
              "      fill: #D2E3FC;\n",
              "    }\n",
              "\n",
              "    [theme=dark] .colab-df-convert:hover {\n",
              "      background-color: #434B5C;\n",
              "      box-shadow: 0px 1px 3px 1px rgba(0, 0, 0, 0.15);\n",
              "      filter: drop-shadow(0px 1px 2px rgba(0, 0, 0, 0.3));\n",
              "      fill: #FFFFFF;\n",
              "    }\n",
              "  </style>\n",
              "\n",
              "      <script>\n",
              "        const buttonEl =\n",
              "          document.querySelector('#df-18ee0485-fc58-4598-a3fe-afd25f612db3 button.colab-df-convert');\n",
              "        buttonEl.style.display =\n",
              "          google.colab.kernel.accessAllowed ? 'block' : 'none';\n",
              "\n",
              "        async function convertToInteractive(key) {\n",
              "          const element = document.querySelector('#df-18ee0485-fc58-4598-a3fe-afd25f612db3');\n",
              "          const dataTable =\n",
              "            await google.colab.kernel.invokeFunction('convertToInteractive',\n",
              "                                                     [key], {});\n",
              "          if (!dataTable) return;\n",
              "\n",
              "          const docLinkHtml = 'Like what you see? Visit the ' +\n",
              "            '<a target=\"_blank\" href=https://colab.research.google.com/notebooks/data_table.ipynb>data table notebook</a>'\n",
              "            + ' to learn more about interactive tables.';\n",
              "          element.innerHTML = '';\n",
              "          dataTable['output_type'] = 'display_data';\n",
              "          await google.colab.output.renderOutput(dataTable, element);\n",
              "          const docLink = document.createElement('div');\n",
              "          docLink.innerHTML = docLinkHtml;\n",
              "          element.appendChild(docLink);\n",
              "        }\n",
              "      </script>\n",
              "    </div>\n",
              "  </div>\n",
              "  "
            ]
          },
          "metadata": {},
          "execution_count": 25
        }
      ]
    },
    {
      "cell_type": "markdown",
      "source": [
        "Example 7:"
      ],
      "metadata": {
        "id": "JpFyXR2DhAe0"
      }
    },
    {
      "cell_type": "code",
      "source": [
        "frame2['discount'] = frame2['price']*0.02\n",
        "frame2"
      ],
      "metadata": {
        "colab": {
          "base_uri": "https://localhost:8080/",
          "height": 206
        },
        "id": "DLpw4zQbhA7k",
        "outputId": "4da8422a-a35b-42d3-8816-db094436d6ac"
      },
      "execution_count": null,
      "outputs": [
        {
          "output_type": "execute_result",
          "data": {
            "text/plain": [
              "   object  price    type  discount\n",
              "0    ball    1.2    good     0.024\n",
              "1     pen    1.0  normal     0.020\n",
              "2  pencil    0.6  normal     0.012\n",
              "3   paper    0.9  normal     0.018\n",
              "4     mug    1.7    good     0.034"
            ],
            "text/html": [
              "\n",
              "  <div id=\"df-12325814-432a-4811-a57d-76dd6167583b\">\n",
              "    <div class=\"colab-df-container\">\n",
              "      <div>\n",
              "<style scoped>\n",
              "    .dataframe tbody tr th:only-of-type {\n",
              "        vertical-align: middle;\n",
              "    }\n",
              "\n",
              "    .dataframe tbody tr th {\n",
              "        vertical-align: top;\n",
              "    }\n",
              "\n",
              "    .dataframe thead th {\n",
              "        text-align: right;\n",
              "    }\n",
              "</style>\n",
              "<table border=\"1\" class=\"dataframe\">\n",
              "  <thead>\n",
              "    <tr style=\"text-align: right;\">\n",
              "      <th></th>\n",
              "      <th>object</th>\n",
              "      <th>price</th>\n",
              "      <th>type</th>\n",
              "      <th>discount</th>\n",
              "    </tr>\n",
              "  </thead>\n",
              "  <tbody>\n",
              "    <tr>\n",
              "      <th>0</th>\n",
              "      <td>ball</td>\n",
              "      <td>1.2</td>\n",
              "      <td>good</td>\n",
              "      <td>0.024</td>\n",
              "    </tr>\n",
              "    <tr>\n",
              "      <th>1</th>\n",
              "      <td>pen</td>\n",
              "      <td>1.0</td>\n",
              "      <td>normal</td>\n",
              "      <td>0.020</td>\n",
              "    </tr>\n",
              "    <tr>\n",
              "      <th>2</th>\n",
              "      <td>pencil</td>\n",
              "      <td>0.6</td>\n",
              "      <td>normal</td>\n",
              "      <td>0.012</td>\n",
              "    </tr>\n",
              "    <tr>\n",
              "      <th>3</th>\n",
              "      <td>paper</td>\n",
              "      <td>0.9</td>\n",
              "      <td>normal</td>\n",
              "      <td>0.018</td>\n",
              "    </tr>\n",
              "    <tr>\n",
              "      <th>4</th>\n",
              "      <td>mug</td>\n",
              "      <td>1.7</td>\n",
              "      <td>good</td>\n",
              "      <td>0.034</td>\n",
              "    </tr>\n",
              "  </tbody>\n",
              "</table>\n",
              "</div>\n",
              "      <button class=\"colab-df-convert\" onclick=\"convertToInteractive('df-12325814-432a-4811-a57d-76dd6167583b')\"\n",
              "              title=\"Convert this dataframe to an interactive table.\"\n",
              "              style=\"display:none;\">\n",
              "        \n",
              "  <svg xmlns=\"http://www.w3.org/2000/svg\" height=\"24px\"viewBox=\"0 0 24 24\"\n",
              "       width=\"24px\">\n",
              "    <path d=\"M0 0h24v24H0V0z\" fill=\"none\"/>\n",
              "    <path d=\"M18.56 5.44l.94 2.06.94-2.06 2.06-.94-2.06-.94-.94-2.06-.94 2.06-2.06.94zm-11 1L8.5 8.5l.94-2.06 2.06-.94-2.06-.94L8.5 2.5l-.94 2.06-2.06.94zm10 10l.94 2.06.94-2.06 2.06-.94-2.06-.94-.94-2.06-.94 2.06-2.06.94z\"/><path d=\"M17.41 7.96l-1.37-1.37c-.4-.4-.92-.59-1.43-.59-.52 0-1.04.2-1.43.59L10.3 9.45l-7.72 7.72c-.78.78-.78 2.05 0 2.83L4 21.41c.39.39.9.59 1.41.59.51 0 1.02-.2 1.41-.59l7.78-7.78 2.81-2.81c.8-.78.8-2.07 0-2.86zM5.41 20L4 18.59l7.72-7.72 1.47 1.35L5.41 20z\"/>\n",
              "  </svg>\n",
              "      </button>\n",
              "      \n",
              "  <style>\n",
              "    .colab-df-container {\n",
              "      display:flex;\n",
              "      flex-wrap:wrap;\n",
              "      gap: 12px;\n",
              "    }\n",
              "\n",
              "    .colab-df-convert {\n",
              "      background-color: #E8F0FE;\n",
              "      border: none;\n",
              "      border-radius: 50%;\n",
              "      cursor: pointer;\n",
              "      display: none;\n",
              "      fill: #1967D2;\n",
              "      height: 32px;\n",
              "      padding: 0 0 0 0;\n",
              "      width: 32px;\n",
              "    }\n",
              "\n",
              "    .colab-df-convert:hover {\n",
              "      background-color: #E2EBFA;\n",
              "      box-shadow: 0px 1px 2px rgba(60, 64, 67, 0.3), 0px 1px 3px 1px rgba(60, 64, 67, 0.15);\n",
              "      fill: #174EA6;\n",
              "    }\n",
              "\n",
              "    [theme=dark] .colab-df-convert {\n",
              "      background-color: #3B4455;\n",
              "      fill: #D2E3FC;\n",
              "    }\n",
              "\n",
              "    [theme=dark] .colab-df-convert:hover {\n",
              "      background-color: #434B5C;\n",
              "      box-shadow: 0px 1px 3px 1px rgba(0, 0, 0, 0.15);\n",
              "      filter: drop-shadow(0px 1px 2px rgba(0, 0, 0, 0.3));\n",
              "      fill: #FFFFFF;\n",
              "    }\n",
              "  </style>\n",
              "\n",
              "      <script>\n",
              "        const buttonEl =\n",
              "          document.querySelector('#df-12325814-432a-4811-a57d-76dd6167583b button.colab-df-convert');\n",
              "        buttonEl.style.display =\n",
              "          google.colab.kernel.accessAllowed ? 'block' : 'none';\n",
              "\n",
              "        async function convertToInteractive(key) {\n",
              "          const element = document.querySelector('#df-12325814-432a-4811-a57d-76dd6167583b');\n",
              "          const dataTable =\n",
              "            await google.colab.kernel.invokeFunction('convertToInteractive',\n",
              "                                                     [key], {});\n",
              "          if (!dataTable) return;\n",
              "\n",
              "          const docLinkHtml = 'Like what you see? Visit the ' +\n",
              "            '<a target=\"_blank\" href=https://colab.research.google.com/notebooks/data_table.ipynb>data table notebook</a>'\n",
              "            + ' to learn more about interactive tables.';\n",
              "          element.innerHTML = '';\n",
              "          dataTable['output_type'] = 'display_data';\n",
              "          await google.colab.output.renderOutput(dataTable, element);\n",
              "          const docLink = document.createElement('div');\n",
              "          docLink.innerHTML = docLinkHtml;\n",
              "          element.appendChild(docLink);\n",
              "        }\n",
              "      </script>\n",
              "    </div>\n",
              "  </div>\n",
              "  "
            ]
          },
          "metadata": {},
          "execution_count": 26
        }
      ]
    },
    {
      "cell_type": "markdown",
      "source": [
        "\n",
        "Example 8:"
      ],
      "metadata": {
        "id": "woR_cLSIhFmg"
      }
    },
    {
      "cell_type": "code",
      "source": [
        "frame2['price_afterdiscount'] = frame2['price'] - frame2['discount']\n",
        "frame2"
      ],
      "metadata": {
        "colab": {
          "base_uri": "https://localhost:8080/",
          "height": 206
        },
        "id": "bTiZc6y-hGIq",
        "outputId": "6fc2a258-fffc-4bfe-a4a2-51f58aa137c1"
      },
      "execution_count": null,
      "outputs": [
        {
          "output_type": "execute_result",
          "data": {
            "text/plain": [
              "   object  price    type  discount  price_afterdiscount\n",
              "0    ball    1.2    good     0.024                1.176\n",
              "1     pen    1.0  normal     0.020                0.980\n",
              "2  pencil    0.6  normal     0.012                0.588\n",
              "3   paper    0.9  normal     0.018                0.882\n",
              "4     mug    1.7    good     0.034                1.666"
            ],
            "text/html": [
              "\n",
              "  <div id=\"df-25ec8fae-9bad-4f6b-be1a-962bdb7f2d64\">\n",
              "    <div class=\"colab-df-container\">\n",
              "      <div>\n",
              "<style scoped>\n",
              "    .dataframe tbody tr th:only-of-type {\n",
              "        vertical-align: middle;\n",
              "    }\n",
              "\n",
              "    .dataframe tbody tr th {\n",
              "        vertical-align: top;\n",
              "    }\n",
              "\n",
              "    .dataframe thead th {\n",
              "        text-align: right;\n",
              "    }\n",
              "</style>\n",
              "<table border=\"1\" class=\"dataframe\">\n",
              "  <thead>\n",
              "    <tr style=\"text-align: right;\">\n",
              "      <th></th>\n",
              "      <th>object</th>\n",
              "      <th>price</th>\n",
              "      <th>type</th>\n",
              "      <th>discount</th>\n",
              "      <th>price_afterdiscount</th>\n",
              "    </tr>\n",
              "  </thead>\n",
              "  <tbody>\n",
              "    <tr>\n",
              "      <th>0</th>\n",
              "      <td>ball</td>\n",
              "      <td>1.2</td>\n",
              "      <td>good</td>\n",
              "      <td>0.024</td>\n",
              "      <td>1.176</td>\n",
              "    </tr>\n",
              "    <tr>\n",
              "      <th>1</th>\n",
              "      <td>pen</td>\n",
              "      <td>1.0</td>\n",
              "      <td>normal</td>\n",
              "      <td>0.020</td>\n",
              "      <td>0.980</td>\n",
              "    </tr>\n",
              "    <tr>\n",
              "      <th>2</th>\n",
              "      <td>pencil</td>\n",
              "      <td>0.6</td>\n",
              "      <td>normal</td>\n",
              "      <td>0.012</td>\n",
              "      <td>0.588</td>\n",
              "    </tr>\n",
              "    <tr>\n",
              "      <th>3</th>\n",
              "      <td>paper</td>\n",
              "      <td>0.9</td>\n",
              "      <td>normal</td>\n",
              "      <td>0.018</td>\n",
              "      <td>0.882</td>\n",
              "    </tr>\n",
              "    <tr>\n",
              "      <th>4</th>\n",
              "      <td>mug</td>\n",
              "      <td>1.7</td>\n",
              "      <td>good</td>\n",
              "      <td>0.034</td>\n",
              "      <td>1.666</td>\n",
              "    </tr>\n",
              "  </tbody>\n",
              "</table>\n",
              "</div>\n",
              "      <button class=\"colab-df-convert\" onclick=\"convertToInteractive('df-25ec8fae-9bad-4f6b-be1a-962bdb7f2d64')\"\n",
              "              title=\"Convert this dataframe to an interactive table.\"\n",
              "              style=\"display:none;\">\n",
              "        \n",
              "  <svg xmlns=\"http://www.w3.org/2000/svg\" height=\"24px\"viewBox=\"0 0 24 24\"\n",
              "       width=\"24px\">\n",
              "    <path d=\"M0 0h24v24H0V0z\" fill=\"none\"/>\n",
              "    <path d=\"M18.56 5.44l.94 2.06.94-2.06 2.06-.94-2.06-.94-.94-2.06-.94 2.06-2.06.94zm-11 1L8.5 8.5l.94-2.06 2.06-.94-2.06-.94L8.5 2.5l-.94 2.06-2.06.94zm10 10l.94 2.06.94-2.06 2.06-.94-2.06-.94-.94-2.06-.94 2.06-2.06.94z\"/><path d=\"M17.41 7.96l-1.37-1.37c-.4-.4-.92-.59-1.43-.59-.52 0-1.04.2-1.43.59L10.3 9.45l-7.72 7.72c-.78.78-.78 2.05 0 2.83L4 21.41c.39.39.9.59 1.41.59.51 0 1.02-.2 1.41-.59l7.78-7.78 2.81-2.81c.8-.78.8-2.07 0-2.86zM5.41 20L4 18.59l7.72-7.72 1.47 1.35L5.41 20z\"/>\n",
              "  </svg>\n",
              "      </button>\n",
              "      \n",
              "  <style>\n",
              "    .colab-df-container {\n",
              "      display:flex;\n",
              "      flex-wrap:wrap;\n",
              "      gap: 12px;\n",
              "    }\n",
              "\n",
              "    .colab-df-convert {\n",
              "      background-color: #E8F0FE;\n",
              "      border: none;\n",
              "      border-radius: 50%;\n",
              "      cursor: pointer;\n",
              "      display: none;\n",
              "      fill: #1967D2;\n",
              "      height: 32px;\n",
              "      padding: 0 0 0 0;\n",
              "      width: 32px;\n",
              "    }\n",
              "\n",
              "    .colab-df-convert:hover {\n",
              "      background-color: #E2EBFA;\n",
              "      box-shadow: 0px 1px 2px rgba(60, 64, 67, 0.3), 0px 1px 3px 1px rgba(60, 64, 67, 0.15);\n",
              "      fill: #174EA6;\n",
              "    }\n",
              "\n",
              "    [theme=dark] .colab-df-convert {\n",
              "      background-color: #3B4455;\n",
              "      fill: #D2E3FC;\n",
              "    }\n",
              "\n",
              "    [theme=dark] .colab-df-convert:hover {\n",
              "      background-color: #434B5C;\n",
              "      box-shadow: 0px 1px 3px 1px rgba(0, 0, 0, 0.15);\n",
              "      filter: drop-shadow(0px 1px 2px rgba(0, 0, 0, 0.3));\n",
              "      fill: #FFFFFF;\n",
              "    }\n",
              "  </style>\n",
              "\n",
              "      <script>\n",
              "        const buttonEl =\n",
              "          document.querySelector('#df-25ec8fae-9bad-4f6b-be1a-962bdb7f2d64 button.colab-df-convert');\n",
              "        buttonEl.style.display =\n",
              "          google.colab.kernel.accessAllowed ? 'block' : 'none';\n",
              "\n",
              "        async function convertToInteractive(key) {\n",
              "          const element = document.querySelector('#df-25ec8fae-9bad-4f6b-be1a-962bdb7f2d64');\n",
              "          const dataTable =\n",
              "            await google.colab.kernel.invokeFunction('convertToInteractive',\n",
              "                                                     [key], {});\n",
              "          if (!dataTable) return;\n",
              "\n",
              "          const docLinkHtml = 'Like what you see? Visit the ' +\n",
              "            '<a target=\"_blank\" href=https://colab.research.google.com/notebooks/data_table.ipynb>data table notebook</a>'\n",
              "            + ' to learn more about interactive tables.';\n",
              "          element.innerHTML = '';\n",
              "          dataTable['output_type'] = 'display_data';\n",
              "          await google.colab.output.renderOutput(dataTable, element);\n",
              "          const docLink = document.createElement('div');\n",
              "          docLink.innerHTML = docLinkHtml;\n",
              "          element.appendChild(docLink);\n",
              "        }\n",
              "      </script>\n",
              "    </div>\n",
              "  </div>\n",
              "  "
            ]
          },
          "metadata": {},
          "execution_count": 27
        }
      ]
    },
    {
      "cell_type": "markdown",
      "source": [
        "Read data from csv file"
      ],
      "metadata": {
        "id": "D4okbq1Wmj7v"
      }
    },
    {
      "cell_type": "markdown",
      "source": [
        "Example 9:"
      ],
      "metadata": {
        "id": "O0LXEZctmna5"
      }
    },
    {
      "cell_type": "code",
      "source": [
        "import pandas as pd\n",
        "dulieuxettuyen = pd.read_csv(\"https://raw.githubusercontent.com/huynhhoc/phantichdulieu/main/Data/dulieuxettuyendaihoc.csv\")"
      ],
      "metadata": {
        "id": "esX3LtH7mpDl"
      },
      "execution_count": null,
      "outputs": []
    },
    {
      "cell_type": "code",
      "source": [
        "type(dulieuxettuyen)"
      ],
      "metadata": {
        "colab": {
          "base_uri": "https://localhost:8080/"
        },
        "id": "bTTn3xX8rp21",
        "outputId": "2c02aba1-a753-4076-af38-8a2644bc1adb"
      },
      "execution_count": null,
      "outputs": [
        {
          "output_type": "execute_result",
          "data": {
            "text/plain": [
              "pandas.core.frame.DataFrame"
            ]
          },
          "metadata": {},
          "execution_count": 29
        }
      ]
    },
    {
      "cell_type": "code",
      "source": [
        "dulieuxettuyen.head(2)"
      ],
      "metadata": {
        "colab": {
          "base_uri": "https://localhost:8080/",
          "height": 141
        },
        "id": "i99ZZq81rsCN",
        "outputId": "3d910040-b374-4c87-f31a-5156483f8581"
      },
      "execution_count": null,
      "outputs": [
        {
          "output_type": "execute_result",
          "data": {
            "text/plain": [
              "   STT   T1   L1   H1   S1   V1   X1   D1   N1   T2  ...   X6   D6   N6  GT  \\\n",
              "0    1  7.2  7.3  6.3  7.3  7.0  7.9  7.3  5.5  8.4  ...  6.6  7.6  5.9   F   \n",
              "1    2  5.4  3.9  3.9  4.0  5.4  5.4  5.3  2.8  6.3  ...  6.6  6.1  4.4   M   \n",
              "\n",
              "   DT   KV   DH1   DH2  DH3  KT  \n",
              "0 NaN  2NT  3.25  3.25  4.5  A1  \n",
              "1 NaN    1  6.00  4.00  3.5   C  \n",
              "\n",
              "[2 rows x 56 columns]"
            ],
            "text/html": [
              "\n",
              "  <div id=\"df-5827dfe3-0917-40b9-96a5-9c2aff6dba3e\">\n",
              "    <div class=\"colab-df-container\">\n",
              "      <div>\n",
              "<style scoped>\n",
              "    .dataframe tbody tr th:only-of-type {\n",
              "        vertical-align: middle;\n",
              "    }\n",
              "\n",
              "    .dataframe tbody tr th {\n",
              "        vertical-align: top;\n",
              "    }\n",
              "\n",
              "    .dataframe thead th {\n",
              "        text-align: right;\n",
              "    }\n",
              "</style>\n",
              "<table border=\"1\" class=\"dataframe\">\n",
              "  <thead>\n",
              "    <tr style=\"text-align: right;\">\n",
              "      <th></th>\n",
              "      <th>STT</th>\n",
              "      <th>T1</th>\n",
              "      <th>L1</th>\n",
              "      <th>H1</th>\n",
              "      <th>S1</th>\n",
              "      <th>V1</th>\n",
              "      <th>X1</th>\n",
              "      <th>D1</th>\n",
              "      <th>N1</th>\n",
              "      <th>T2</th>\n",
              "      <th>...</th>\n",
              "      <th>X6</th>\n",
              "      <th>D6</th>\n",
              "      <th>N6</th>\n",
              "      <th>GT</th>\n",
              "      <th>DT</th>\n",
              "      <th>KV</th>\n",
              "      <th>DH1</th>\n",
              "      <th>DH2</th>\n",
              "      <th>DH3</th>\n",
              "      <th>KT</th>\n",
              "    </tr>\n",
              "  </thead>\n",
              "  <tbody>\n",
              "    <tr>\n",
              "      <th>0</th>\n",
              "      <td>1</td>\n",
              "      <td>7.2</td>\n",
              "      <td>7.3</td>\n",
              "      <td>6.3</td>\n",
              "      <td>7.3</td>\n",
              "      <td>7.0</td>\n",
              "      <td>7.9</td>\n",
              "      <td>7.3</td>\n",
              "      <td>5.5</td>\n",
              "      <td>8.4</td>\n",
              "      <td>...</td>\n",
              "      <td>6.6</td>\n",
              "      <td>7.6</td>\n",
              "      <td>5.9</td>\n",
              "      <td>F</td>\n",
              "      <td>NaN</td>\n",
              "      <td>2NT</td>\n",
              "      <td>3.25</td>\n",
              "      <td>3.25</td>\n",
              "      <td>4.5</td>\n",
              "      <td>A1</td>\n",
              "    </tr>\n",
              "    <tr>\n",
              "      <th>1</th>\n",
              "      <td>2</td>\n",
              "      <td>5.4</td>\n",
              "      <td>3.9</td>\n",
              "      <td>3.9</td>\n",
              "      <td>4.0</td>\n",
              "      <td>5.4</td>\n",
              "      <td>5.4</td>\n",
              "      <td>5.3</td>\n",
              "      <td>2.8</td>\n",
              "      <td>6.3</td>\n",
              "      <td>...</td>\n",
              "      <td>6.6</td>\n",
              "      <td>6.1</td>\n",
              "      <td>4.4</td>\n",
              "      <td>M</td>\n",
              "      <td>NaN</td>\n",
              "      <td>1</td>\n",
              "      <td>6.00</td>\n",
              "      <td>4.00</td>\n",
              "      <td>3.5</td>\n",
              "      <td>C</td>\n",
              "    </tr>\n",
              "  </tbody>\n",
              "</table>\n",
              "<p>2 rows × 56 columns</p>\n",
              "</div>\n",
              "      <button class=\"colab-df-convert\" onclick=\"convertToInteractive('df-5827dfe3-0917-40b9-96a5-9c2aff6dba3e')\"\n",
              "              title=\"Convert this dataframe to an interactive table.\"\n",
              "              style=\"display:none;\">\n",
              "        \n",
              "  <svg xmlns=\"http://www.w3.org/2000/svg\" height=\"24px\"viewBox=\"0 0 24 24\"\n",
              "       width=\"24px\">\n",
              "    <path d=\"M0 0h24v24H0V0z\" fill=\"none\"/>\n",
              "    <path d=\"M18.56 5.44l.94 2.06.94-2.06 2.06-.94-2.06-.94-.94-2.06-.94 2.06-2.06.94zm-11 1L8.5 8.5l.94-2.06 2.06-.94-2.06-.94L8.5 2.5l-.94 2.06-2.06.94zm10 10l.94 2.06.94-2.06 2.06-.94-2.06-.94-.94-2.06-.94 2.06-2.06.94z\"/><path d=\"M17.41 7.96l-1.37-1.37c-.4-.4-.92-.59-1.43-.59-.52 0-1.04.2-1.43.59L10.3 9.45l-7.72 7.72c-.78.78-.78 2.05 0 2.83L4 21.41c.39.39.9.59 1.41.59.51 0 1.02-.2 1.41-.59l7.78-7.78 2.81-2.81c.8-.78.8-2.07 0-2.86zM5.41 20L4 18.59l7.72-7.72 1.47 1.35L5.41 20z\"/>\n",
              "  </svg>\n",
              "      </button>\n",
              "      \n",
              "  <style>\n",
              "    .colab-df-container {\n",
              "      display:flex;\n",
              "      flex-wrap:wrap;\n",
              "      gap: 12px;\n",
              "    }\n",
              "\n",
              "    .colab-df-convert {\n",
              "      background-color: #E8F0FE;\n",
              "      border: none;\n",
              "      border-radius: 50%;\n",
              "      cursor: pointer;\n",
              "      display: none;\n",
              "      fill: #1967D2;\n",
              "      height: 32px;\n",
              "      padding: 0 0 0 0;\n",
              "      width: 32px;\n",
              "    }\n",
              "\n",
              "    .colab-df-convert:hover {\n",
              "      background-color: #E2EBFA;\n",
              "      box-shadow: 0px 1px 2px rgba(60, 64, 67, 0.3), 0px 1px 3px 1px rgba(60, 64, 67, 0.15);\n",
              "      fill: #174EA6;\n",
              "    }\n",
              "\n",
              "    [theme=dark] .colab-df-convert {\n",
              "      background-color: #3B4455;\n",
              "      fill: #D2E3FC;\n",
              "    }\n",
              "\n",
              "    [theme=dark] .colab-df-convert:hover {\n",
              "      background-color: #434B5C;\n",
              "      box-shadow: 0px 1px 3px 1px rgba(0, 0, 0, 0.15);\n",
              "      filter: drop-shadow(0px 1px 2px rgba(0, 0, 0, 0.3));\n",
              "      fill: #FFFFFF;\n",
              "    }\n",
              "  </style>\n",
              "\n",
              "      <script>\n",
              "        const buttonEl =\n",
              "          document.querySelector('#df-5827dfe3-0917-40b9-96a5-9c2aff6dba3e button.colab-df-convert');\n",
              "        buttonEl.style.display =\n",
              "          google.colab.kernel.accessAllowed ? 'block' : 'none';\n",
              "\n",
              "        async function convertToInteractive(key) {\n",
              "          const element = document.querySelector('#df-5827dfe3-0917-40b9-96a5-9c2aff6dba3e');\n",
              "          const dataTable =\n",
              "            await google.colab.kernel.invokeFunction('convertToInteractive',\n",
              "                                                     [key], {});\n",
              "          if (!dataTable) return;\n",
              "\n",
              "          const docLinkHtml = 'Like what you see? Visit the ' +\n",
              "            '<a target=\"_blank\" href=https://colab.research.google.com/notebooks/data_table.ipynb>data table notebook</a>'\n",
              "            + ' to learn more about interactive tables.';\n",
              "          element.innerHTML = '';\n",
              "          dataTable['output_type'] = 'display_data';\n",
              "          await google.colab.output.renderOutput(dataTable, element);\n",
              "          const docLink = document.createElement('div');\n",
              "          docLink.innerHTML = docLinkHtml;\n",
              "          element.appendChild(docLink);\n",
              "        }\n",
              "      </script>\n",
              "    </div>\n",
              "  </div>\n",
              "  "
            ]
          },
          "metadata": {},
          "execution_count": 30
        }
      ]
    },
    {
      "cell_type": "code",
      "source": [
        "dulieuxettuyen.tail(2)"
      ],
      "metadata": {
        "colab": {
          "base_uri": "https://localhost:8080/",
          "height": 141
        },
        "id": "NHohYl1oruRN",
        "outputId": "1a535836-9e9d-42e6-e589-035e7a95b714"
      },
      "execution_count": null,
      "outputs": [
        {
          "output_type": "execute_result",
          "data": {
            "text/plain": [
              "    STT   T1   L1   H1   S1   V1   X1   D1   N1   T2  ...   X6   D6   N6  GT  \\\n",
              "98   99  2.7  1.8  3.4  5.3  4.5  7.9  4.9  3.8  2.8  ...  6.6  5.2  5.9   M   \n",
              "99  100  4.1  5.2  4.9  5.3  5.5  5.4  7.2  5.4  4.4  ...  5.6  6.6  5.8   M   \n",
              "\n",
              "    DT   KV   DH1  DH2   DH3  KT  \n",
              "98 NaN    1  5.00  3.5  5.50   C  \n",
              "99 NaN  2NT  5.25  2.5  4.25   C  \n",
              "\n",
              "[2 rows x 56 columns]"
            ],
            "text/html": [
              "\n",
              "  <div id=\"df-2f7df001-33f6-4604-a187-be56c941303e\">\n",
              "    <div class=\"colab-df-container\">\n",
              "      <div>\n",
              "<style scoped>\n",
              "    .dataframe tbody tr th:only-of-type {\n",
              "        vertical-align: middle;\n",
              "    }\n",
              "\n",
              "    .dataframe tbody tr th {\n",
              "        vertical-align: top;\n",
              "    }\n",
              "\n",
              "    .dataframe thead th {\n",
              "        text-align: right;\n",
              "    }\n",
              "</style>\n",
              "<table border=\"1\" class=\"dataframe\">\n",
              "  <thead>\n",
              "    <tr style=\"text-align: right;\">\n",
              "      <th></th>\n",
              "      <th>STT</th>\n",
              "      <th>T1</th>\n",
              "      <th>L1</th>\n",
              "      <th>H1</th>\n",
              "      <th>S1</th>\n",
              "      <th>V1</th>\n",
              "      <th>X1</th>\n",
              "      <th>D1</th>\n",
              "      <th>N1</th>\n",
              "      <th>T2</th>\n",
              "      <th>...</th>\n",
              "      <th>X6</th>\n",
              "      <th>D6</th>\n",
              "      <th>N6</th>\n",
              "      <th>GT</th>\n",
              "      <th>DT</th>\n",
              "      <th>KV</th>\n",
              "      <th>DH1</th>\n",
              "      <th>DH2</th>\n",
              "      <th>DH3</th>\n",
              "      <th>KT</th>\n",
              "    </tr>\n",
              "  </thead>\n",
              "  <tbody>\n",
              "    <tr>\n",
              "      <th>98</th>\n",
              "      <td>99</td>\n",
              "      <td>2.7</td>\n",
              "      <td>1.8</td>\n",
              "      <td>3.4</td>\n",
              "      <td>5.3</td>\n",
              "      <td>4.5</td>\n",
              "      <td>7.9</td>\n",
              "      <td>4.9</td>\n",
              "      <td>3.8</td>\n",
              "      <td>2.8</td>\n",
              "      <td>...</td>\n",
              "      <td>6.6</td>\n",
              "      <td>5.2</td>\n",
              "      <td>5.9</td>\n",
              "      <td>M</td>\n",
              "      <td>NaN</td>\n",
              "      <td>1</td>\n",
              "      <td>5.00</td>\n",
              "      <td>3.5</td>\n",
              "      <td>5.50</td>\n",
              "      <td>C</td>\n",
              "    </tr>\n",
              "    <tr>\n",
              "      <th>99</th>\n",
              "      <td>100</td>\n",
              "      <td>4.1</td>\n",
              "      <td>5.2</td>\n",
              "      <td>4.9</td>\n",
              "      <td>5.3</td>\n",
              "      <td>5.5</td>\n",
              "      <td>5.4</td>\n",
              "      <td>7.2</td>\n",
              "      <td>5.4</td>\n",
              "      <td>4.4</td>\n",
              "      <td>...</td>\n",
              "      <td>5.6</td>\n",
              "      <td>6.6</td>\n",
              "      <td>5.8</td>\n",
              "      <td>M</td>\n",
              "      <td>NaN</td>\n",
              "      <td>2NT</td>\n",
              "      <td>5.25</td>\n",
              "      <td>2.5</td>\n",
              "      <td>4.25</td>\n",
              "      <td>C</td>\n",
              "    </tr>\n",
              "  </tbody>\n",
              "</table>\n",
              "<p>2 rows × 56 columns</p>\n",
              "</div>\n",
              "      <button class=\"colab-df-convert\" onclick=\"convertToInteractive('df-2f7df001-33f6-4604-a187-be56c941303e')\"\n",
              "              title=\"Convert this dataframe to an interactive table.\"\n",
              "              style=\"display:none;\">\n",
              "        \n",
              "  <svg xmlns=\"http://www.w3.org/2000/svg\" height=\"24px\"viewBox=\"0 0 24 24\"\n",
              "       width=\"24px\">\n",
              "    <path d=\"M0 0h24v24H0V0z\" fill=\"none\"/>\n",
              "    <path d=\"M18.56 5.44l.94 2.06.94-2.06 2.06-.94-2.06-.94-.94-2.06-.94 2.06-2.06.94zm-11 1L8.5 8.5l.94-2.06 2.06-.94-2.06-.94L8.5 2.5l-.94 2.06-2.06.94zm10 10l.94 2.06.94-2.06 2.06-.94-2.06-.94-.94-2.06-.94 2.06-2.06.94z\"/><path d=\"M17.41 7.96l-1.37-1.37c-.4-.4-.92-.59-1.43-.59-.52 0-1.04.2-1.43.59L10.3 9.45l-7.72 7.72c-.78.78-.78 2.05 0 2.83L4 21.41c.39.39.9.59 1.41.59.51 0 1.02-.2 1.41-.59l7.78-7.78 2.81-2.81c.8-.78.8-2.07 0-2.86zM5.41 20L4 18.59l7.72-7.72 1.47 1.35L5.41 20z\"/>\n",
              "  </svg>\n",
              "      </button>\n",
              "      \n",
              "  <style>\n",
              "    .colab-df-container {\n",
              "      display:flex;\n",
              "      flex-wrap:wrap;\n",
              "      gap: 12px;\n",
              "    }\n",
              "\n",
              "    .colab-df-convert {\n",
              "      background-color: #E8F0FE;\n",
              "      border: none;\n",
              "      border-radius: 50%;\n",
              "      cursor: pointer;\n",
              "      display: none;\n",
              "      fill: #1967D2;\n",
              "      height: 32px;\n",
              "      padding: 0 0 0 0;\n",
              "      width: 32px;\n",
              "    }\n",
              "\n",
              "    .colab-df-convert:hover {\n",
              "      background-color: #E2EBFA;\n",
              "      box-shadow: 0px 1px 2px rgba(60, 64, 67, 0.3), 0px 1px 3px 1px rgba(60, 64, 67, 0.15);\n",
              "      fill: #174EA6;\n",
              "    }\n",
              "\n",
              "    [theme=dark] .colab-df-convert {\n",
              "      background-color: #3B4455;\n",
              "      fill: #D2E3FC;\n",
              "    }\n",
              "\n",
              "    [theme=dark] .colab-df-convert:hover {\n",
              "      background-color: #434B5C;\n",
              "      box-shadow: 0px 1px 3px 1px rgba(0, 0, 0, 0.15);\n",
              "      filter: drop-shadow(0px 1px 2px rgba(0, 0, 0, 0.3));\n",
              "      fill: #FFFFFF;\n",
              "    }\n",
              "  </style>\n",
              "\n",
              "      <script>\n",
              "        const buttonEl =\n",
              "          document.querySelector('#df-2f7df001-33f6-4604-a187-be56c941303e button.colab-df-convert');\n",
              "        buttonEl.style.display =\n",
              "          google.colab.kernel.accessAllowed ? 'block' : 'none';\n",
              "\n",
              "        async function convertToInteractive(key) {\n",
              "          const element = document.querySelector('#df-2f7df001-33f6-4604-a187-be56c941303e');\n",
              "          const dataTable =\n",
              "            await google.colab.kernel.invokeFunction('convertToInteractive',\n",
              "                                                     [key], {});\n",
              "          if (!dataTable) return;\n",
              "\n",
              "          const docLinkHtml = 'Like what you see? Visit the ' +\n",
              "            '<a target=\"_blank\" href=https://colab.research.google.com/notebooks/data_table.ipynb>data table notebook</a>'\n",
              "            + ' to learn more about interactive tables.';\n",
              "          element.innerHTML = '';\n",
              "          dataTable['output_type'] = 'display_data';\n",
              "          await google.colab.output.renderOutput(dataTable, element);\n",
              "          const docLink = document.createElement('div');\n",
              "          docLink.innerHTML = docLinkHtml;\n",
              "          element.appendChild(docLink);\n",
              "        }\n",
              "      </script>\n",
              "    </div>\n",
              "  </div>\n",
              "  "
            ]
          },
          "metadata": {},
          "execution_count": 31
        }
      ]
    },
    {
      "cell_type": "code",
      "source": [
        "dulieuxettuyenKI = pd.DataFrame(dulieuxettuyen, columns=['T1',\t'L1',\t'H1',\t'S1',\t'V1',\t'X1',\t'D1',\t'N1'])"
      ],
      "metadata": {
        "id": "kcajmFddrwSt"
      },
      "execution_count": null,
      "outputs": []
    },
    {
      "cell_type": "code",
      "source": [
        "dulieuxettuyenKI.columns"
      ],
      "metadata": {
        "colab": {
          "base_uri": "https://localhost:8080/"
        },
        "id": "5ZsPkMboryPO",
        "outputId": "f0c609bf-058b-43fb-a41c-f20ee7dc3ca7"
      },
      "execution_count": null,
      "outputs": [
        {
          "output_type": "execute_result",
          "data": {
            "text/plain": [
              "Index(['T1', 'L1', 'H1', 'S1', 'V1', 'X1', 'D1', 'N1'], dtype='object')"
            ]
          },
          "metadata": {},
          "execution_count": 33
        }
      ]
    },
    {
      "cell_type": "code",
      "source": [
        "dulieuxettuyenKI.tail(3)"
      ],
      "metadata": {
        "colab": {
          "base_uri": "https://localhost:8080/",
          "height": 143
        },
        "id": "JT1rGh3cr0P7",
        "outputId": "ff4cb7db-85f4-4c2b-ef38-8d716fcb2ce1"
      },
      "execution_count": null,
      "outputs": [
        {
          "output_type": "execute_result",
          "data": {
            "text/plain": [
              "     T1   L1   H1   S1   V1   X1   D1   N1\n",
              "97  8.8  5.5  7.4  7.7  6.2  7.3  8.1  4.5\n",
              "98  2.7  1.8  3.4  5.3  4.5  7.9  4.9  3.8\n",
              "99  4.1  5.2  4.9  5.3  5.5  5.4  7.2  5.4"
            ],
            "text/html": [
              "\n",
              "  <div id=\"df-9e4f0dd6-3f2d-44e3-afd3-8b0c5b7d9ce1\">\n",
              "    <div class=\"colab-df-container\">\n",
              "      <div>\n",
              "<style scoped>\n",
              "    .dataframe tbody tr th:only-of-type {\n",
              "        vertical-align: middle;\n",
              "    }\n",
              "\n",
              "    .dataframe tbody tr th {\n",
              "        vertical-align: top;\n",
              "    }\n",
              "\n",
              "    .dataframe thead th {\n",
              "        text-align: right;\n",
              "    }\n",
              "</style>\n",
              "<table border=\"1\" class=\"dataframe\">\n",
              "  <thead>\n",
              "    <tr style=\"text-align: right;\">\n",
              "      <th></th>\n",
              "      <th>T1</th>\n",
              "      <th>L1</th>\n",
              "      <th>H1</th>\n",
              "      <th>S1</th>\n",
              "      <th>V1</th>\n",
              "      <th>X1</th>\n",
              "      <th>D1</th>\n",
              "      <th>N1</th>\n",
              "    </tr>\n",
              "  </thead>\n",
              "  <tbody>\n",
              "    <tr>\n",
              "      <th>97</th>\n",
              "      <td>8.8</td>\n",
              "      <td>5.5</td>\n",
              "      <td>7.4</td>\n",
              "      <td>7.7</td>\n",
              "      <td>6.2</td>\n",
              "      <td>7.3</td>\n",
              "      <td>8.1</td>\n",
              "      <td>4.5</td>\n",
              "    </tr>\n",
              "    <tr>\n",
              "      <th>98</th>\n",
              "      <td>2.7</td>\n",
              "      <td>1.8</td>\n",
              "      <td>3.4</td>\n",
              "      <td>5.3</td>\n",
              "      <td>4.5</td>\n",
              "      <td>7.9</td>\n",
              "      <td>4.9</td>\n",
              "      <td>3.8</td>\n",
              "    </tr>\n",
              "    <tr>\n",
              "      <th>99</th>\n",
              "      <td>4.1</td>\n",
              "      <td>5.2</td>\n",
              "      <td>4.9</td>\n",
              "      <td>5.3</td>\n",
              "      <td>5.5</td>\n",
              "      <td>5.4</td>\n",
              "      <td>7.2</td>\n",
              "      <td>5.4</td>\n",
              "    </tr>\n",
              "  </tbody>\n",
              "</table>\n",
              "</div>\n",
              "      <button class=\"colab-df-convert\" onclick=\"convertToInteractive('df-9e4f0dd6-3f2d-44e3-afd3-8b0c5b7d9ce1')\"\n",
              "              title=\"Convert this dataframe to an interactive table.\"\n",
              "              style=\"display:none;\">\n",
              "        \n",
              "  <svg xmlns=\"http://www.w3.org/2000/svg\" height=\"24px\"viewBox=\"0 0 24 24\"\n",
              "       width=\"24px\">\n",
              "    <path d=\"M0 0h24v24H0V0z\" fill=\"none\"/>\n",
              "    <path d=\"M18.56 5.44l.94 2.06.94-2.06 2.06-.94-2.06-.94-.94-2.06-.94 2.06-2.06.94zm-11 1L8.5 8.5l.94-2.06 2.06-.94-2.06-.94L8.5 2.5l-.94 2.06-2.06.94zm10 10l.94 2.06.94-2.06 2.06-.94-2.06-.94-.94-2.06-.94 2.06-2.06.94z\"/><path d=\"M17.41 7.96l-1.37-1.37c-.4-.4-.92-.59-1.43-.59-.52 0-1.04.2-1.43.59L10.3 9.45l-7.72 7.72c-.78.78-.78 2.05 0 2.83L4 21.41c.39.39.9.59 1.41.59.51 0 1.02-.2 1.41-.59l7.78-7.78 2.81-2.81c.8-.78.8-2.07 0-2.86zM5.41 20L4 18.59l7.72-7.72 1.47 1.35L5.41 20z\"/>\n",
              "  </svg>\n",
              "      </button>\n",
              "      \n",
              "  <style>\n",
              "    .colab-df-container {\n",
              "      display:flex;\n",
              "      flex-wrap:wrap;\n",
              "      gap: 12px;\n",
              "    }\n",
              "\n",
              "    .colab-df-convert {\n",
              "      background-color: #E8F0FE;\n",
              "      border: none;\n",
              "      border-radius: 50%;\n",
              "      cursor: pointer;\n",
              "      display: none;\n",
              "      fill: #1967D2;\n",
              "      height: 32px;\n",
              "      padding: 0 0 0 0;\n",
              "      width: 32px;\n",
              "    }\n",
              "\n",
              "    .colab-df-convert:hover {\n",
              "      background-color: #E2EBFA;\n",
              "      box-shadow: 0px 1px 2px rgba(60, 64, 67, 0.3), 0px 1px 3px 1px rgba(60, 64, 67, 0.15);\n",
              "      fill: #174EA6;\n",
              "    }\n",
              "\n",
              "    [theme=dark] .colab-df-convert {\n",
              "      background-color: #3B4455;\n",
              "      fill: #D2E3FC;\n",
              "    }\n",
              "\n",
              "    [theme=dark] .colab-df-convert:hover {\n",
              "      background-color: #434B5C;\n",
              "      box-shadow: 0px 1px 3px 1px rgba(0, 0, 0, 0.15);\n",
              "      filter: drop-shadow(0px 1px 2px rgba(0, 0, 0, 0.3));\n",
              "      fill: #FFFFFF;\n",
              "    }\n",
              "  </style>\n",
              "\n",
              "      <script>\n",
              "        const buttonEl =\n",
              "          document.querySelector('#df-9e4f0dd6-3f2d-44e3-afd3-8b0c5b7d9ce1 button.colab-df-convert');\n",
              "        buttonEl.style.display =\n",
              "          google.colab.kernel.accessAllowed ? 'block' : 'none';\n",
              "\n",
              "        async function convertToInteractive(key) {\n",
              "          const element = document.querySelector('#df-9e4f0dd6-3f2d-44e3-afd3-8b0c5b7d9ce1');\n",
              "          const dataTable =\n",
              "            await google.colab.kernel.invokeFunction('convertToInteractive',\n",
              "                                                     [key], {});\n",
              "          if (!dataTable) return;\n",
              "\n",
              "          const docLinkHtml = 'Like what you see? Visit the ' +\n",
              "            '<a target=\"_blank\" href=https://colab.research.google.com/notebooks/data_table.ipynb>data table notebook</a>'\n",
              "            + ' to learn more about interactive tables.';\n",
              "          element.innerHTML = '';\n",
              "          dataTable['output_type'] = 'display_data';\n",
              "          await google.colab.output.renderOutput(dataTable, element);\n",
              "          const docLink = document.createElement('div');\n",
              "          docLink.innerHTML = docLinkHtml;\n",
              "          element.appendChild(docLink);\n",
              "        }\n",
              "      </script>\n",
              "    </div>\n",
              "  </div>\n",
              "  "
            ]
          },
          "metadata": {},
          "execution_count": 34
        }
      ]
    },
    {
      "cell_type": "markdown",
      "source": [
        "Read data without header"
      ],
      "metadata": {
        "id": "ul7yyNqOr2Nl"
      }
    },
    {
      "cell_type": "code",
      "source": [
        "import pandas as pd\n",
        "dltuyensinh_withoutHeader = pd.read_csv(\"https://raw.githubusercontent.com/huynhhoc/phantichdulieu/main/Data/dulieuxettuyendaihoc.csv\", header = None)"
      ],
      "metadata": {
        "id": "SSK13zEqr2rr"
      },
      "execution_count": null,
      "outputs": []
    },
    {
      "cell_type": "code",
      "source": [
        "dltuyensinh_withoutHeader.head(5)"
      ],
      "metadata": {
        "colab": {
          "base_uri": "https://localhost:8080/",
          "height": 236
        },
        "id": "fkMXfYFVr5lU",
        "outputId": "2aed8621-22a0-4e89-faa6-ef91ed377e36"
      },
      "execution_count": null,
      "outputs": [
        {
          "output_type": "execute_result",
          "data": {
            "text/plain": [
              "    0    1    2    3    4    5    6    7    8    9   ...   46   47   48  49  \\\n",
              "0  STT   T1   L1   H1   S1   V1   X1   D1   N1   T2  ...   X6   D6   N6  GT   \n",
              "1    1  7.2  7.3  6.3  7.3    7  7.9  7.3  5.5  8.4  ...  6.6  7.6  5.9   F   \n",
              "2    2  5.4  3.9  3.9    4  5.4  5.4  5.3  2.8  6.3  ...  6.6  6.1  4.4   M   \n",
              "3    3  5.6  6.8  7.2  7.5  4.3  7.4  5.8  3.2    5  ...  7.9  8.1  4.6   M   \n",
              "4    4  6.6  6.4  5.3  6.9  5.4  7.3  6.4  5.8  5.1  ...  7.1  7.3  7.4   M   \n",
              "\n",
              "    50   51    52    53    54  55  \n",
              "0   DT   KV   DH1   DH2   DH3  KT  \n",
              "1  NaN  2NT  3.25  3.25   4.5  A1  \n",
              "2  NaN    1     6     4   3.5   C  \n",
              "3  NaN    1     5  6.75     4   C  \n",
              "4  NaN    1  4.25  4.25  5.25  D1  \n",
              "\n",
              "[5 rows x 56 columns]"
            ],
            "text/html": [
              "\n",
              "  <div id=\"df-6d1753f2-d53d-4a5e-a972-db5dc5c9e51b\">\n",
              "    <div class=\"colab-df-container\">\n",
              "      <div>\n",
              "<style scoped>\n",
              "    .dataframe tbody tr th:only-of-type {\n",
              "        vertical-align: middle;\n",
              "    }\n",
              "\n",
              "    .dataframe tbody tr th {\n",
              "        vertical-align: top;\n",
              "    }\n",
              "\n",
              "    .dataframe thead th {\n",
              "        text-align: right;\n",
              "    }\n",
              "</style>\n",
              "<table border=\"1\" class=\"dataframe\">\n",
              "  <thead>\n",
              "    <tr style=\"text-align: right;\">\n",
              "      <th></th>\n",
              "      <th>0</th>\n",
              "      <th>1</th>\n",
              "      <th>2</th>\n",
              "      <th>3</th>\n",
              "      <th>4</th>\n",
              "      <th>5</th>\n",
              "      <th>6</th>\n",
              "      <th>7</th>\n",
              "      <th>8</th>\n",
              "      <th>9</th>\n",
              "      <th>...</th>\n",
              "      <th>46</th>\n",
              "      <th>47</th>\n",
              "      <th>48</th>\n",
              "      <th>49</th>\n",
              "      <th>50</th>\n",
              "      <th>51</th>\n",
              "      <th>52</th>\n",
              "      <th>53</th>\n",
              "      <th>54</th>\n",
              "      <th>55</th>\n",
              "    </tr>\n",
              "  </thead>\n",
              "  <tbody>\n",
              "    <tr>\n",
              "      <th>0</th>\n",
              "      <td>STT</td>\n",
              "      <td>T1</td>\n",
              "      <td>L1</td>\n",
              "      <td>H1</td>\n",
              "      <td>S1</td>\n",
              "      <td>V1</td>\n",
              "      <td>X1</td>\n",
              "      <td>D1</td>\n",
              "      <td>N1</td>\n",
              "      <td>T2</td>\n",
              "      <td>...</td>\n",
              "      <td>X6</td>\n",
              "      <td>D6</td>\n",
              "      <td>N6</td>\n",
              "      <td>GT</td>\n",
              "      <td>DT</td>\n",
              "      <td>KV</td>\n",
              "      <td>DH1</td>\n",
              "      <td>DH2</td>\n",
              "      <td>DH3</td>\n",
              "      <td>KT</td>\n",
              "    </tr>\n",
              "    <tr>\n",
              "      <th>1</th>\n",
              "      <td>1</td>\n",
              "      <td>7.2</td>\n",
              "      <td>7.3</td>\n",
              "      <td>6.3</td>\n",
              "      <td>7.3</td>\n",
              "      <td>7</td>\n",
              "      <td>7.9</td>\n",
              "      <td>7.3</td>\n",
              "      <td>5.5</td>\n",
              "      <td>8.4</td>\n",
              "      <td>...</td>\n",
              "      <td>6.6</td>\n",
              "      <td>7.6</td>\n",
              "      <td>5.9</td>\n",
              "      <td>F</td>\n",
              "      <td>NaN</td>\n",
              "      <td>2NT</td>\n",
              "      <td>3.25</td>\n",
              "      <td>3.25</td>\n",
              "      <td>4.5</td>\n",
              "      <td>A1</td>\n",
              "    </tr>\n",
              "    <tr>\n",
              "      <th>2</th>\n",
              "      <td>2</td>\n",
              "      <td>5.4</td>\n",
              "      <td>3.9</td>\n",
              "      <td>3.9</td>\n",
              "      <td>4</td>\n",
              "      <td>5.4</td>\n",
              "      <td>5.4</td>\n",
              "      <td>5.3</td>\n",
              "      <td>2.8</td>\n",
              "      <td>6.3</td>\n",
              "      <td>...</td>\n",
              "      <td>6.6</td>\n",
              "      <td>6.1</td>\n",
              "      <td>4.4</td>\n",
              "      <td>M</td>\n",
              "      <td>NaN</td>\n",
              "      <td>1</td>\n",
              "      <td>6</td>\n",
              "      <td>4</td>\n",
              "      <td>3.5</td>\n",
              "      <td>C</td>\n",
              "    </tr>\n",
              "    <tr>\n",
              "      <th>3</th>\n",
              "      <td>3</td>\n",
              "      <td>5.6</td>\n",
              "      <td>6.8</td>\n",
              "      <td>7.2</td>\n",
              "      <td>7.5</td>\n",
              "      <td>4.3</td>\n",
              "      <td>7.4</td>\n",
              "      <td>5.8</td>\n",
              "      <td>3.2</td>\n",
              "      <td>5</td>\n",
              "      <td>...</td>\n",
              "      <td>7.9</td>\n",
              "      <td>8.1</td>\n",
              "      <td>4.6</td>\n",
              "      <td>M</td>\n",
              "      <td>NaN</td>\n",
              "      <td>1</td>\n",
              "      <td>5</td>\n",
              "      <td>6.75</td>\n",
              "      <td>4</td>\n",
              "      <td>C</td>\n",
              "    </tr>\n",
              "    <tr>\n",
              "      <th>4</th>\n",
              "      <td>4</td>\n",
              "      <td>6.6</td>\n",
              "      <td>6.4</td>\n",
              "      <td>5.3</td>\n",
              "      <td>6.9</td>\n",
              "      <td>5.4</td>\n",
              "      <td>7.3</td>\n",
              "      <td>6.4</td>\n",
              "      <td>5.8</td>\n",
              "      <td>5.1</td>\n",
              "      <td>...</td>\n",
              "      <td>7.1</td>\n",
              "      <td>7.3</td>\n",
              "      <td>7.4</td>\n",
              "      <td>M</td>\n",
              "      <td>NaN</td>\n",
              "      <td>1</td>\n",
              "      <td>4.25</td>\n",
              "      <td>4.25</td>\n",
              "      <td>5.25</td>\n",
              "      <td>D1</td>\n",
              "    </tr>\n",
              "  </tbody>\n",
              "</table>\n",
              "<p>5 rows × 56 columns</p>\n",
              "</div>\n",
              "      <button class=\"colab-df-convert\" onclick=\"convertToInteractive('df-6d1753f2-d53d-4a5e-a972-db5dc5c9e51b')\"\n",
              "              title=\"Convert this dataframe to an interactive table.\"\n",
              "              style=\"display:none;\">\n",
              "        \n",
              "  <svg xmlns=\"http://www.w3.org/2000/svg\" height=\"24px\"viewBox=\"0 0 24 24\"\n",
              "       width=\"24px\">\n",
              "    <path d=\"M0 0h24v24H0V0z\" fill=\"none\"/>\n",
              "    <path d=\"M18.56 5.44l.94 2.06.94-2.06 2.06-.94-2.06-.94-.94-2.06-.94 2.06-2.06.94zm-11 1L8.5 8.5l.94-2.06 2.06-.94-2.06-.94L8.5 2.5l-.94 2.06-2.06.94zm10 10l.94 2.06.94-2.06 2.06-.94-2.06-.94-.94-2.06-.94 2.06-2.06.94z\"/><path d=\"M17.41 7.96l-1.37-1.37c-.4-.4-.92-.59-1.43-.59-.52 0-1.04.2-1.43.59L10.3 9.45l-7.72 7.72c-.78.78-.78 2.05 0 2.83L4 21.41c.39.39.9.59 1.41.59.51 0 1.02-.2 1.41-.59l7.78-7.78 2.81-2.81c.8-.78.8-2.07 0-2.86zM5.41 20L4 18.59l7.72-7.72 1.47 1.35L5.41 20z\"/>\n",
              "  </svg>\n",
              "      </button>\n",
              "      \n",
              "  <style>\n",
              "    .colab-df-container {\n",
              "      display:flex;\n",
              "      flex-wrap:wrap;\n",
              "      gap: 12px;\n",
              "    }\n",
              "\n",
              "    .colab-df-convert {\n",
              "      background-color: #E8F0FE;\n",
              "      border: none;\n",
              "      border-radius: 50%;\n",
              "      cursor: pointer;\n",
              "      display: none;\n",
              "      fill: #1967D2;\n",
              "      height: 32px;\n",
              "      padding: 0 0 0 0;\n",
              "      width: 32px;\n",
              "    }\n",
              "\n",
              "    .colab-df-convert:hover {\n",
              "      background-color: #E2EBFA;\n",
              "      box-shadow: 0px 1px 2px rgba(60, 64, 67, 0.3), 0px 1px 3px 1px rgba(60, 64, 67, 0.15);\n",
              "      fill: #174EA6;\n",
              "    }\n",
              "\n",
              "    [theme=dark] .colab-df-convert {\n",
              "      background-color: #3B4455;\n",
              "      fill: #D2E3FC;\n",
              "    }\n",
              "\n",
              "    [theme=dark] .colab-df-convert:hover {\n",
              "      background-color: #434B5C;\n",
              "      box-shadow: 0px 1px 3px 1px rgba(0, 0, 0, 0.15);\n",
              "      filter: drop-shadow(0px 1px 2px rgba(0, 0, 0, 0.3));\n",
              "      fill: #FFFFFF;\n",
              "    }\n",
              "  </style>\n",
              "\n",
              "      <script>\n",
              "        const buttonEl =\n",
              "          document.querySelector('#df-6d1753f2-d53d-4a5e-a972-db5dc5c9e51b button.colab-df-convert');\n",
              "        buttonEl.style.display =\n",
              "          google.colab.kernel.accessAllowed ? 'block' : 'none';\n",
              "\n",
              "        async function convertToInteractive(key) {\n",
              "          const element = document.querySelector('#df-6d1753f2-d53d-4a5e-a972-db5dc5c9e51b');\n",
              "          const dataTable =\n",
              "            await google.colab.kernel.invokeFunction('convertToInteractive',\n",
              "                                                     [key], {});\n",
              "          if (!dataTable) return;\n",
              "\n",
              "          const docLinkHtml = 'Like what you see? Visit the ' +\n",
              "            '<a target=\"_blank\" href=https://colab.research.google.com/notebooks/data_table.ipynb>data table notebook</a>'\n",
              "            + ' to learn more about interactive tables.';\n",
              "          element.innerHTML = '';\n",
              "          dataTable['output_type'] = 'display_data';\n",
              "          await google.colab.output.renderOutput(dataTable, element);\n",
              "          const docLink = document.createElement('div');\n",
              "          docLink.innerHTML = docLinkHtml;\n",
              "          element.appendChild(docLink);\n",
              "        }\n",
              "      </script>\n",
              "    </div>\n",
              "  </div>\n",
              "  "
            ]
          },
          "metadata": {},
          "execution_count": 36
        }
      ]
    },
    {
      "cell_type": "markdown",
      "source": [
        "Read JSON"
      ],
      "metadata": {
        "id": "qMCXmNAmr7sE"
      }
    },
    {
      "cell_type": "markdown",
      "source": [
        "Example 10:"
      ],
      "metadata": {
        "id": "uhdj3QZCr9bt"
      }
    },
    {
      "cell_type": "code",
      "source": [
        "import pandas as pd\n",
        "import numpy as np\n",
        "frame = pd.DataFrame(np.arange(16).reshape(4,4),\n",
        "\t\tindex =['white', 'black', 'red','blue'],\n",
        "\t\tcolumns =['up', 'down', 'right', 'left'])\n",
        "frame.to_json('frame.json')\n",
        "#Read json-formatted data\n",
        "jsonFrame = pd.read_json('frame.json')\n",
        "print(jsonFrame)"
      ],
      "metadata": {
        "colab": {
          "base_uri": "https://localhost:8080/"
        },
        "id": "GZGq2f5Qr_LU",
        "outputId": "1bdbc61c-f9bd-40d6-f6e5-eaf91bf55645"
      },
      "execution_count": null,
      "outputs": [
        {
          "output_type": "stream",
          "name": "stdout",
          "text": [
            "       up  down  right  left\n",
            "white   0     1      2     3\n",
            "black   4     5      6     7\n",
            "red     8     9     10    11\n",
            "blue   12    13     14    15\n"
          ]
        }
      ]
    },
    {
      "cell_type": "markdown",
      "source": [
        "Example 11:"
      ],
      "metadata": {
        "id": "i6cUKktQsDgg"
      }
    },
    {
      "cell_type": "code",
      "source": [
        "import pandas as pd\n",
        "example11 = pd.read_table('https://raw.githubusercontent.com/huynhhoc/phantichdulieu/main/Data/example11.txt', sep='\\D+', header=None, engine='python')\n",
        "print (example11)"
      ],
      "metadata": {
        "colab": {
          "base_uri": "https://localhost:8080/"
        },
        "id": "kj6tC-sSsD5S",
        "outputId": "6e60ba65-4114-4e0b-ad61-ad1ac24bdd13"
      },
      "execution_count": null,
      "outputs": [
        {
          "output_type": "stream",
          "name": "stdout",
          "text": [
            "   0    1    2\n",
            "0  0  123  122\n",
            "1  1  124  321\n",
            "2  2  125  333\n"
          ]
        }
      ]
    },
    {
      "cell_type": "markdown",
      "source": [
        "Example 12:"
      ],
      "metadata": {
        "id": "YIJrq5JVs_AJ"
      }
    },
    {
      "cell_type": "code",
      "source": [
        "import pandas as pd\n",
        "example12 = pd.read_table('https://raw.githubusercontent.com/huynhhoc/phantichdulieu/main/Data/example12.txt', sep=',', skiprows=[0,1,3,6])\n",
        "print (example12)"
      ],
      "metadata": {
        "colab": {
          "base_uri": "https://localhost:8080/"
        },
        "id": "Jz1m-LnJtANN",
        "outputId": "ce4be4e3-807c-4dc0-de8d-a4f42e12dffa"
      },
      "execution_count": null,
      "outputs": [
        {
          "output_type": "stream",
          "name": "stdout",
          "text": [
            "   white  red  blue  green animal\n",
            "0      1    5     2      3    cat\n",
            "1      2    7     8      5    dog\n",
            "2      3    3     6      7  horse\n",
            "3      2    2     8      3   duck\n",
            "4      4    4     2      1  mouse\n"
          ]
        }
      ]
    },
    {
      "cell_type": "markdown",
      "source": [
        "Example 13:\n",
        "\n",
        "white,red,blue,green,animal\n",
        "\n",
        "1,5,2,3,cat\n",
        "\n",
        "2,7,8,5,dog\n",
        "\n",
        "3,3,6,7,horse\n",
        "\n",
        "2,2,8,3,duck\n",
        "\n",
        "4,4,2,1,mouse"
      ],
      "metadata": {
        "id": "YDM_5V8jtIUs"
      }
    },
    {
      "cell_type": "code",
      "source": [
        "import pandas as pd\n",
        "example13 = pd.read_table('https://raw.githubusercontent.com/huynhhoc/phantichdulieu/main/Data/example13.txt', skiprows=[2], nrows=3)\n",
        "print (example13)"
      ],
      "metadata": {
        "colab": {
          "base_uri": "https://localhost:8080/"
        },
        "id": "HiWIZTiVtLtU",
        "outputId": "f305773c-e789-4641-a0a1-a2ef35daa5bc"
      },
      "execution_count": null,
      "outputs": [
        {
          "output_type": "stream",
          "name": "stdout",
          "text": [
            "  white,red,blue,green,animal\n",
            "0                 1,5,2,3,cat\n",
            "1               3,3,6,7,horse\n",
            "2                2,2,8,3,duck\n"
          ]
        }
      ]
    },
    {
      "cell_type": "markdown",
      "source": [
        "***Filter - Dropna - Update***"
      ],
      "metadata": {
        "id": "rug5GjmntVNY"
      }
    },
    {
      "cell_type": "markdown",
      "source": [
        "Example 14:\n",
        "\n"
      ],
      "metadata": {
        "id": "Z4kue95KtcEu"
      }
    },
    {
      "cell_type": "code",
      "source": [
        "import pandas as pd\n",
        "import numpy as np\n",
        "frame = pd.DataFrame(np.arange(16).reshape(4,4),index = ['red', 'blue', 'yellow','white'],columns = ['ball', 'pen', 'pencil', 'paper'])\n",
        "print(frame)"
      ],
      "metadata": {
        "colab": {
          "base_uri": "https://localhost:8080/"
        },
        "id": "tIoE74JAtdo-",
        "outputId": "a1997be2-40a0-4e42-e4e5-0c250b7e7767"
      },
      "execution_count": null,
      "outputs": [
        {
          "output_type": "stream",
          "name": "stdout",
          "text": [
            "        ball  pen  pencil  paper\n",
            "red        0    1       2      3\n",
            "blue       4    5       6      7\n",
            "yellow     8    9      10     11\n",
            "white     12   13      14     15\n"
          ]
        }
      ]
    },
    {
      "cell_type": "code",
      "source": [
        "newframe = pd.DataFrame(frame, columns=['paper','pen'])\n",
        "print(newframe)"
      ],
      "metadata": {
        "colab": {
          "base_uri": "https://localhost:8080/"
        },
        "id": "JbaQW5AwthKE",
        "outputId": "942d92a9-1e9b-458e-fbd1-72ffd49b09b2"
      },
      "execution_count": null,
      "outputs": [
        {
          "output_type": "stream",
          "name": "stdout",
          "text": [
            "        paper  pen\n",
            "red         3    1\n",
            "blue        7    5\n",
            "yellow     11    9\n",
            "white      15   13\n"
          ]
        }
      ]
    },
    {
      "cell_type": "markdown",
      "source": [
        "Example 14: Set NaN for value less than 11"
      ],
      "metadata": {
        "id": "c8Cl3oUBtjfU"
      }
    },
    {
      "cell_type": "code",
      "source": [
        "filteredFrame = frame[frame < 11]\n",
        "print(filteredFrame)"
      ],
      "metadata": {
        "colab": {
          "base_uri": "https://localhost:8080/"
        },
        "id": "nv2lE51Ftj38",
        "outputId": "dae056f4-69c8-43bf-cbaa-79a3665ff45f"
      },
      "execution_count": null,
      "outputs": [
        {
          "output_type": "stream",
          "name": "stdout",
          "text": [
            "        ball  pen  pencil  paper\n",
            "red      0.0  1.0     2.0    3.0\n",
            "blue     4.0  5.0     6.0    7.0\n",
            "yellow   8.0  9.0    10.0    NaN\n",
            "white    NaN  NaN     NaN    NaN\n"
          ]
        }
      ]
    },
    {
      "cell_type": "markdown",
      "source": [
        "Example 15: Drop rows that contain any NaN value"
      ],
      "metadata": {
        "id": "3ddRQ0JttnDU"
      }
    },
    {
      "cell_type": "code",
      "source": [
        "dropAllNaNFrame = filteredFrame.dropna()\n",
        "print (dropAllNaNFrame)"
      ],
      "metadata": {
        "colab": {
          "base_uri": "https://localhost:8080/"
        },
        "id": "NRYn16iltnXa",
        "outputId": "6a81fd06-7af7-4103-f07e-c89e1ec82eaf"
      },
      "execution_count": null,
      "outputs": [
        {
          "output_type": "stream",
          "name": "stdout",
          "text": [
            "      ball  pen  pencil  paper\n",
            "red    0.0  1.0     2.0    3.0\n",
            "blue   4.0  5.0     6.0    7.0\n"
          ]
        }
      ]
    },
    {
      "cell_type": "markdown",
      "source": [
        "Example 16: Drop rows that all of them are NaN\n",
        "\n"
      ],
      "metadata": {
        "id": "zxkOJ9i1tpL8"
      }
    },
    {
      "cell_type": "code",
      "source": [
        "dropNaNAllFrame = filteredFrame.dropna(how='all')\n",
        "print(dropNaNAllFrame)"
      ],
      "metadata": {
        "colab": {
          "base_uri": "https://localhost:8080/"
        },
        "id": "18zU298ttrJ8",
        "outputId": "b90e93c2-591f-4f51-8570-360aeca7d5a7"
      },
      "execution_count": null,
      "outputs": [
        {
          "output_type": "stream",
          "name": "stdout",
          "text": [
            "        ball  pen  pencil  paper\n",
            "red      0.0  1.0     2.0    3.0\n",
            "blue     4.0  5.0     6.0    7.0\n",
            "yellow   8.0  9.0    10.0    NaN\n"
          ]
        }
      ]
    },
    {
      "cell_type": "markdown",
      "source": [
        "# Describe the missing data"
      ],
      "metadata": {
        "id": "cRXGT86MtusW"
      }
    },
    {
      "cell_type": "markdown",
      "source": [
        "Example 17: Describe the missing data\n",
        "\n"
      ],
      "metadata": {
        "id": "WWgX_9xQtzbE"
      }
    },
    {
      "cell_type": "code",
      "source": [
        "filteredFrame.isnull().sum()"
      ],
      "metadata": {
        "colab": {
          "base_uri": "https://localhost:8080/"
        },
        "id": "Ps_gCNOatz1X",
        "outputId": "d9c10f36-50f1-47cb-bd1a-9fe78f039b21"
      },
      "execution_count": null,
      "outputs": [
        {
          "output_type": "execute_result",
          "data": {
            "text/plain": [
              "ball      1\n",
              "pen       1\n",
              "pencil    1\n",
              "paper     2\n",
              "dtype: int64"
            ]
          },
          "metadata": {},
          "execution_count": 46
        }
      ]
    },
    {
      "cell_type": "markdown",
      "source": [
        "# Update for null value"
      ],
      "metadata": {
        "id": "dg22spp-t1zG"
      }
    },
    {
      "cell_type": "markdown",
      "source": [
        "Example 18: Set 0 for all NaN value"
      ],
      "metadata": {
        "id": "c3pCWnVit5ck"
      }
    },
    {
      "cell_type": "code",
      "source": [
        "print (filteredFrame)"
      ],
      "metadata": {
        "colab": {
          "base_uri": "https://localhost:8080/"
        },
        "id": "DXhBchdtt6B9",
        "outputId": "f3710383-6ab3-4bd4-e251-9cfc98f85fe0"
      },
      "execution_count": null,
      "outputs": [
        {
          "output_type": "stream",
          "name": "stdout",
          "text": [
            "        ball  pen  pencil  paper\n",
            "red      0.0  1.0     2.0    3.0\n",
            "blue     4.0  5.0     6.0    7.0\n",
            "yellow   8.0  9.0    10.0    NaN\n",
            "white    NaN  NaN     NaN    NaN\n"
          ]
        }
      ]
    },
    {
      "cell_type": "code",
      "source": [
        "fillnazeroFrame = filteredFrame.fillna(0)\n",
        "print(fillnazeroFrame)"
      ],
      "metadata": {
        "colab": {
          "base_uri": "https://localhost:8080/"
        },
        "id": "_jwe-XM6t9HF",
        "outputId": "0b78d509-db3c-4bec-943c-aa73c6e3ab0a"
      },
      "execution_count": null,
      "outputs": [
        {
          "output_type": "stream",
          "name": "stdout",
          "text": [
            "        ball  pen  pencil  paper\n",
            "red      0.0  1.0     2.0    3.0\n",
            "blue     4.0  5.0     6.0    7.0\n",
            "yellow   8.0  9.0    10.0    0.0\n",
            "white    0.0  0.0     0.0    0.0\n"
          ]
        }
      ]
    },
    {
      "cell_type": "markdown",
      "source": [
        "Example 19: Write dataframe to csv file"
      ],
      "metadata": {
        "id": "y2a7dtovt-tU"
      }
    },
    {
      "cell_type": "code",
      "source": [
        "from google.colab import drive\n",
        "drive.mount('/drive')"
      ],
      "metadata": {
        "colab": {
          "base_uri": "https://localhost:8080/"
        },
        "id": "NEq3o8Ket_Fh",
        "outputId": "1a5daad0-2db4-4f7c-ee41-08ce7717cf3c"
      },
      "execution_count": null,
      "outputs": [
        {
          "output_type": "stream",
          "name": "stdout",
          "text": [
            "Mounted at /drive\n"
          ]
        }
      ]
    },
    {
      "cell_type": "markdown",
      "source": [
        "# Bài tập thực hành"
      ],
      "metadata": {
        "id": "-l3w4HqNbeW-"
      }
    },
    {
      "cell_type": "code",
      "source": [
        "#Câu 1\n",
        "import pandas as pd\n",
        "import numpy as np\n",
        "df=pd.read_csv(\"https://raw.githubusercontent.com/huynhhoc/DataAnalystDeepLearning/main/Data/dulieuxettuyendaihoc.csv\",index_col=\"STT\")\n",
        "print(\"Cau 1 :\\n\")\n",
        "print(df)\n",
        "#Câu 2\n",
        "print(\"Cau 2:\\n\")\n",
        "print(\"Thay thế các cột có giá trị 0:\\n\")\n",
        "print(df.fillna(0,inplace=False))\n",
        "#Câu 3\n",
        "print(\"Câu 3:\\n\")\n",
        "print(\"In ra 10 dòng đầu:\\n\",df.head(10))\n",
        "print(\"In ra 10 dòng cuối:\\n\")\n",
        "print(df.tail(10))\n",
        "#Câu 4\n",
        "print(\"Câu 4:\\n\")\n",
        "print(\"Chỉnh dữ liệu thiếu tại dân tộc bằng 0:\\n\")\n",
        "print(df['DT'].fillna(0,inplace=False))\n",
        "#Câu 5\n",
        "print(\"Câu 5:\\n\")\n",
        "print(\"Hiệu chỉnh dữ liệu bằng mean:\\n\")\n",
        "print(df['T1'].fillna(df[\"T1\"].mean(),inplace=False))\n",
        "#Câu 6\n",
        "print(\"Câu 6:\\n\")\n",
        "print(\"Sử lý dữ liệu thiếu của các cột điểm số:\\n\")\n",
        "print(df.isnull().values.any())\n",
        "print(\"Thống kê dữ liệu các cột:\\n\",df.dtypes)\n",
        "is_float64=df.dtypes==float\n",
        "#Chuyển các giá trị thành list\n",
        "df_column_list=df.columns[is_float64].tolist()\n",
        "print(\"Danh sách cột cảu bảng có giá trị float , các cột có dữ liệu là chứ bỏ qua: \\n\",df_column_list)\n",
        "def fill(col):\n",
        "    return df[col].fillna(df[col].mean(),inplace=False)\n",
        "for col in df_column_list:\n",
        "    fill(col)\n",
        "print(\"Bảng sau khi hiệu chỉnh:\\n\",df)\n",
        "#Câu 7\n",
        "print(\"Câu 7:\\n\")\n",
        "for i in ['1','2','6']:\n",
        "    df[\"TBM\"+i] = (df[\"T\"+i]*2 + df[\"L\"+i]+ df[\"H\"+i]+ df[\"S\"+i]+ + df[\"V\"+i]*2 + df[\"X\"+i]+ df[\"D\"+i]+ df[\"N\"+i])/10\n",
        "#Đổi tên cột\n",
        "df.rename(columns={\"TBM6\":\"TBM3\"},inplace = True)\n",
        "print(\"Dứ liệu sau khi thêm tào các cột TBM:\\n\",df)\n",
        "#Câu 8\n",
        "print(\"Câu 8:Xếp loại\\n\")\n",
        "for i in [\"1\",\"2\",\"3\"]:\n",
        "    df.loc[df['TBM'+i]<=5,'XL'+i]='Y'\n",
        "    df.loc[(df['TBM'+i]<=6.5) & (df['TBM'+i]>5),'XL'+i]='TB'\n",
        "    df.loc[(df['TBM'+i]<=8) & (df['TBM'+i]>6.5),'XL'+i]='K'\n",
        "    df.loc[(df['TBM'+i]<=9) & (df['TBM'+i]>8),'XL'+i]='G'\n",
        "    df.loc[df['TBM'+i]>=9,'XL'+i]='XS'\n",
        "\n",
        "print(df)\n",
        "#Câu 9\n",
        "print(\"Câu 9:\\n\")\n",
        "for i in ['1','2','3']:\n",
        "    df[\"US_TBM\"+i] = df[\"TBM\"+i]/10 *4\n",
        "\n",
        "print(df)\n",
        "#Câu 10\n",
        "print(\"Câu 10:\\n\")\n",
        "for i in df['KT'].unique():\n",
        "    str(i)\n",
        "    df.loc[(i == \"Al\" or i == \"A\") & (((df[\"DH1\"]*2 + df[\"DH2\"] + df[\"DH3\"])/4) >= 5), \"KQXT\"] = 1#điều kiện lọc có th\n",
        "    df.loc[(i == \"Al\" or i == \"A\") & (((df[\"DH1\"]*2 + df[\"DH2\"] + df[\"DH3\"])/4) < 5), \"KQXT\"]  = 0\n",
        "    df.loc[(i== \"B\") & (( (df[\"DH1\"] + df[\"DH2\"]*2 + df[\"DH3\"])/4) >= 5), \"KQXT\"] = 1 \n",
        "    df.loc[(i == \"B\") & (( (df[\"DH1\"] + df[\"DH2\"]*2 + df[\"DH3\"])/4) < 5), \"KQXT\"] = 0\n",
        "    df.loc[ (i != \"A1\" or i != \"A\" or i ==  \"B\") & (((df[\"DH1\"] + df[\"DH2\"] + df[\"DH3\"])/3) >= 5), \"KQXT\"] = 1\n",
        "    df.loc[ (i != \"A1\" or i != \"A\" or i ==  \"B\") & (((df[\"DH1\"] + df[\"DH2\"] + df[\"DH3\"])/3) < 5), \"KQXT\"] = 0\n",
        "print(df.head(10))\n",
        "#Câu 11\n",
        "print(\"Cau 11\")\n",
        "df.to_csv('processed_dulieuxettuyendaihoc.csv')"
      ],
      "metadata": {
        "colab": {
          "base_uri": "https://localhost:8080/"
        },
        "id": "lGARPIPHbkjr",
        "outputId": "f3a803bb-2060-4f3f-8bc3-d09bb6426933"
      },
      "execution_count": 1,
      "outputs": [
        {
          "output_type": "stream",
          "name": "stdout",
          "text": [
            "Cau 1 :\n",
            "\n",
            "      T1   L1   H1   S1   V1   X1   D1   N1   T2   L2  ...   X6   D6   N6  GT  \\\n",
            "STT                                                    ...                      \n",
            "1    7.2  7.3  6.3  7.3  7.0  7.9  7.3  5.5  8.4  8.9  ...  6.6  7.6  5.9   F   \n",
            "2    5.4  3.9  3.9  4.0  5.4  5.4  5.3  2.8  6.3  5.4  ...  6.6  6.1  4.4   M   \n",
            "3    5.6  6.8  7.2  7.5  4.3  7.4  5.8  3.2  5.0  4.9  ...  7.9  8.1  4.6   M   \n",
            "4    6.6  6.4  5.3  6.9  5.4  7.3  6.4  5.8  5.1  6.2  ...  7.1  7.3  7.4   M   \n",
            "5    6.0  5.0  6.0  7.3  6.5  7.7  7.9  6.1  5.4  5.5  ...  6.1  7.5  7.2   M   \n",
            "..   ...  ...  ...  ...  ...  ...  ...  ...  ...  ...  ...  ...  ...  ...  ..   \n",
            "96   8.6  6.9  7.4  8.8  7.6  5.8  7.3  5.7  8.9  6.8  ...  6.3  6.1  6.2   F   \n",
            "97   3.7  5.4  6.0  5.1  5.5  3.9  6.1  4.4  4.1  4.8  ...  7.9  7.5  4.4   F   \n",
            "98   8.8  5.5  7.4  7.7  6.2  7.3  8.1  4.5  9.5  7.3  ...  9.6  8.4  5.8   M   \n",
            "99   2.7  1.8  3.4  5.3  4.5  7.9  4.9  3.8  2.8  5.7  ...  6.6  5.2  5.9   M   \n",
            "100  4.1  5.2  4.9  5.3  5.5  5.4  7.2  5.4  4.4  6.4  ...  5.6  6.6  5.8   M   \n",
            "\n",
            "     DT   KV   DH1   DH2   DH3  KT  \n",
            "STT                                 \n",
            "1   NaN  2NT  3.25  3.25  4.50  A1  \n",
            "2   NaN    1  6.00  4.00  3.50   C  \n",
            "3   NaN    1  5.00  6.75  4.00   C  \n",
            "4   NaN    1  4.25  4.25  5.25  D1  \n",
            "5   NaN  2NT  4.25  4.50  5.00   A  \n",
            "..   ..  ...   ...   ...   ...  ..  \n",
            "96  NaN    1  5.25  1.50  6.25   C  \n",
            "97  NaN    1  5.25  3.75  4.75   C  \n",
            "98  NaN  2NT  7.00  8.00  4.00   C  \n",
            "99  NaN    1  5.00  3.50  5.50   C  \n",
            "100 NaN  2NT  5.25  2.50  4.25   C  \n",
            "\n",
            "[100 rows x 55 columns]\n",
            "Cau 2:\n",
            "\n",
            "Thay thế các cột có giá trị 0:\n",
            "\n",
            "      T1   L1   H1   S1   V1   X1   D1   N1   T2   L2  ...   X6   D6   N6  GT  \\\n",
            "STT                                                    ...                      \n",
            "1    7.2  7.3  6.3  7.3  7.0  7.9  7.3  5.5  8.4  8.9  ...  6.6  7.6  5.9   F   \n",
            "2    5.4  3.9  3.9  4.0  5.4  5.4  5.3  2.8  6.3  5.4  ...  6.6  6.1  4.4   M   \n",
            "3    5.6  6.8  7.2  7.5  4.3  7.4  5.8  3.2  5.0  4.9  ...  7.9  8.1  4.6   M   \n",
            "4    6.6  6.4  5.3  6.9  5.4  7.3  6.4  5.8  5.1  6.2  ...  7.1  7.3  7.4   M   \n",
            "5    6.0  5.0  6.0  7.3  6.5  7.7  7.9  6.1  5.4  5.5  ...  6.1  7.5  7.2   M   \n",
            "..   ...  ...  ...  ...  ...  ...  ...  ...  ...  ...  ...  ...  ...  ...  ..   \n",
            "96   8.6  6.9  7.4  8.8  7.6  5.8  7.3  5.7  8.9  6.8  ...  6.3  6.1  6.2   F   \n",
            "97   3.7  5.4  6.0  5.1  5.5  3.9  6.1  4.4  4.1  4.8  ...  7.9  7.5  4.4   F   \n",
            "98   8.8  5.5  7.4  7.7  6.2  7.3  8.1  4.5  9.5  7.3  ...  9.6  8.4  5.8   M   \n",
            "99   2.7  1.8  3.4  5.3  4.5  7.9  4.9  3.8  2.8  5.7  ...  6.6  5.2  5.9   M   \n",
            "100  4.1  5.2  4.9  5.3  5.5  5.4  7.2  5.4  4.4  6.4  ...  5.6  6.6  5.8   M   \n",
            "\n",
            "      DT   KV   DH1   DH2   DH3  KT  \n",
            "STT                                  \n",
            "1    0.0  2NT  3.25  3.25  4.50  A1  \n",
            "2    0.0    1  6.00  4.00  3.50   C  \n",
            "3    0.0    1  5.00  6.75  4.00   C  \n",
            "4    0.0    1  4.25  4.25  5.25  D1  \n",
            "5    0.0  2NT  4.25  4.50  5.00   A  \n",
            "..   ...  ...   ...   ...   ...  ..  \n",
            "96   0.0    1  5.25  1.50  6.25   C  \n",
            "97   0.0    1  5.25  3.75  4.75   C  \n",
            "98   0.0  2NT  7.00  8.00  4.00   C  \n",
            "99   0.0    1  5.00  3.50  5.50   C  \n",
            "100  0.0  2NT  5.25  2.50  4.25   C  \n",
            "\n",
            "[100 rows x 55 columns]\n",
            "Câu 3:\n",
            "\n",
            "In ra 10 dòng đầu:\n",
            "       T1   L1   H1   S1   V1   X1   D1   N1   T2   L2  ...   X6   D6   N6  GT  \\\n",
            "STT                                                    ...                      \n",
            "1    7.2  7.3  6.3  7.3  7.0  7.9  7.3  5.5  8.4  8.9  ...  6.6  7.6  5.9   F   \n",
            "2    5.4  3.9  3.9  4.0  5.4  5.4  5.3  2.8  6.3  5.4  ...  6.6  6.1  4.4   M   \n",
            "3    5.6  6.8  7.2  7.5  4.3  7.4  5.8  3.2  5.0  4.9  ...  7.9  8.1  4.6   M   \n",
            "4    6.6  6.4  5.3  6.9  5.4  7.3  6.4  5.8  5.1  6.2  ...  7.1  7.3  7.4   M   \n",
            "5    6.0  5.0  6.0  7.3  6.5  7.7  7.9  6.1  5.4  5.5  ...  6.1  7.5  7.2   M   \n",
            "6    9.3  7.6  7.9  8.6  7.0  7.3  7.7  7.9  9.6  7.8  ...  5.7  8.0  7.8   M   \n",
            "7    2.8  3.9  5.5  6.9  5.0  7.3  4.6  5.2  4.4  6.7  ...  6.6  6.0  6.0   F   \n",
            "8    8.3  6.0  7.6  5.1  7.5  4.7  5.8  7.2  6.7  6.3  ...  7.1  6.8  7.0   F   \n",
            "9    6.5  6.3  7.6  6.0  5.5  7.1  6.3  5.0  7.3  6.8  ...  9.1  7.9  6.1   F   \n",
            "10   7.3  5.9  4.7  7.1  6.7  7.9  6.7  7.7  8.0  6.8  ...  6.4  6.1  7.8   F   \n",
            "\n",
            "     DT   KV   DH1   DH2   DH3  KT  \n",
            "STT                                 \n",
            "1   NaN  2NT  3.25  3.25  4.50  A1  \n",
            "2   NaN    1  6.00  4.00  3.50   C  \n",
            "3   NaN    1  5.00  6.75  4.00   C  \n",
            "4   NaN    1  4.25  4.25  5.25  D1  \n",
            "5   NaN  2NT  4.25  4.50  5.00   A  \n",
            "6   NaN    1  1.50  4.00  6.00  D1  \n",
            "7   NaN    2  6.50  6.75  5.25   C  \n",
            "8   NaN    2  3.75  4.50  4.25  D1  \n",
            "9   NaN    1  3.50  3.50  6.75  D1  \n",
            "10  NaN    1  4.00  4.75  5.50  D1  \n",
            "\n",
            "[10 rows x 55 columns]\n",
            "In ra 10 dòng cuối:\n",
            "\n",
            "      T1   L1   H1   S1   V1   X1   D1   N1   T2   L2  ...   X6   D6   N6  GT  \\\n",
            "STT                                                    ...                      \n",
            "91   8.1  7.7  9.1  8.5  6.1  8.6  8.8  7.3  8.8  8.3  ...  8.3  8.7  7.8   M   \n",
            "92   7.8  6.5  6.7  5.4  6.2  4.8  5.9  4.4  8.9  6.9  ...  7.2  7.4  7.0   M   \n",
            "93   5.0  6.6  6.5  7.2  5.8  6.7  6.4  6.0  6.8  6.1  ...  5.9  6.7  5.8   M   \n",
            "94   5.2  5.2  6.8  7.9  6.6  8.9  7.6  5.3  6.8  5.8  ...  8.7  7.8  5.0   M   \n",
            "95   5.8  5.9  7.6  6.1  5.3  8.1  6.1  5.0  6.4  7.2  ...  7.3  6.8  5.3   M   \n",
            "96   8.6  6.9  7.4  8.8  7.6  5.8  7.3  5.7  8.9  6.8  ...  6.3  6.1  6.2   F   \n",
            "97   3.7  5.4  6.0  5.1  5.5  3.9  6.1  4.4  4.1  4.8  ...  7.9  7.5  4.4   F   \n",
            "98   8.8  5.5  7.4  7.7  6.2  7.3  8.1  4.5  9.5  7.3  ...  9.6  8.4  5.8   M   \n",
            "99   2.7  1.8  3.4  5.3  4.5  7.9  4.9  3.8  2.8  5.7  ...  6.6  5.2  5.9   M   \n",
            "100  4.1  5.2  4.9  5.3  5.5  5.4  7.2  5.4  4.4  6.4  ...  5.6  6.6  5.8   M   \n",
            "\n",
            "     DT   KV   DH1   DH2   DH3  KT  \n",
            "STT                                 \n",
            "91  NaN    2  6.25  4.00  6.50   A  \n",
            "92  NaN  2NT  4.75  4.75  4.50   A  \n",
            "93  NaN    1  3.25  5.25  4.25   A  \n",
            "94  NaN    1  3.50  4.25  5.00   A  \n",
            "95  NaN    1  4.25  2.50  4.75   A  \n",
            "96  NaN    1  5.25  1.50  6.25   C  \n",
            "97  NaN    1  5.25  3.75  4.75   C  \n",
            "98  NaN  2NT  7.00  8.00  4.00   C  \n",
            "99  NaN    1  5.00  3.50  5.50   C  \n",
            "100 NaN  2NT  5.25  2.50  4.25   C  \n",
            "\n",
            "[10 rows x 55 columns]\n",
            "Câu 4:\n",
            "\n",
            "Chỉnh dữ liệu thiếu tại dân tộc bằng 0:\n",
            "\n",
            "STT\n",
            "1      0.0\n",
            "2      0.0\n",
            "3      0.0\n",
            "4      0.0\n",
            "5      0.0\n",
            "      ... \n",
            "96     0.0\n",
            "97     0.0\n",
            "98     0.0\n",
            "99     0.0\n",
            "100    0.0\n",
            "Name: DT, Length: 100, dtype: float64\n",
            "Câu 5:\n",
            "\n",
            "Hiệu chỉnh dữ liệu bằng mean:\n",
            "\n",
            "STT\n",
            "1      7.2\n",
            "2      5.4\n",
            "3      5.6\n",
            "4      6.6\n",
            "5      6.0\n",
            "      ... \n",
            "96     8.6\n",
            "97     3.7\n",
            "98     8.8\n",
            "99     2.7\n",
            "100    4.1\n",
            "Name: T1, Length: 100, dtype: float64\n",
            "Câu 6:\n",
            "\n",
            "Sử lý dữ liệu thiếu của các cột điểm số:\n",
            "\n",
            "True\n",
            "Thống kê dữ liệu các cột:\n",
            " T1     float64\n",
            "L1     float64\n",
            "H1     float64\n",
            "S1     float64\n",
            "V1     float64\n",
            "X1     float64\n",
            "D1     float64\n",
            "N1     float64\n",
            "T2     float64\n",
            "L2     float64\n",
            "H2     float64\n",
            "S2     float64\n",
            "V2     float64\n",
            "X2     float64\n",
            "D2     float64\n",
            "N2     float64\n",
            "T3     float64\n",
            "L3     float64\n",
            "H3     float64\n",
            "S3     float64\n",
            "V3     float64\n",
            "X3     float64\n",
            "D3     float64\n",
            "N3     float64\n",
            "T4     float64\n",
            "L4     float64\n",
            "H4     float64\n",
            "S4     float64\n",
            "V4     float64\n",
            "X4     float64\n",
            "D4     float64\n",
            "N4     float64\n",
            "T5     float64\n",
            "L5     float64\n",
            "H5     float64\n",
            "S5     float64\n",
            "V5     float64\n",
            "X5     float64\n",
            "D5     float64\n",
            "N5     float64\n",
            "T6     float64\n",
            "L6     float64\n",
            "H6     float64\n",
            "S6     float64\n",
            "V6     float64\n",
            "X6     float64\n",
            "D6     float64\n",
            "N6     float64\n",
            "GT      object\n",
            "DT     float64\n",
            "KV      object\n",
            "DH1    float64\n",
            "DH2    float64\n",
            "DH3    float64\n",
            "KT      object\n",
            "dtype: object\n",
            "Danh sách cột cảu bảng có giá trị float , các cột có dữ liệu là chứ bỏ qua: \n",
            " ['T1', 'L1', 'H1', 'S1', 'V1', 'X1', 'D1', 'N1', 'T2', 'L2', 'H2', 'S2', 'V2', 'X2', 'D2', 'N2', 'T3', 'L3', 'H3', 'S3', 'V3', 'X3', 'D3', 'N3', 'T4', 'L4', 'H4', 'S4', 'V4', 'X4', 'D4', 'N4', 'T5', 'L5', 'H5', 'S5', 'V5', 'X5', 'D5', 'N5', 'T6', 'L6', 'H6', 'S6', 'V6', 'X6', 'D6', 'N6', 'DT', 'DH1', 'DH2', 'DH3']\n",
            "Bảng sau khi hiệu chỉnh:\n",
            "       T1   L1   H1   S1   V1   X1   D1   N1   T2   L2  ...   X6   D6   N6  GT  \\\n",
            "STT                                                    ...                      \n",
            "1    7.2  7.3  6.3  7.3  7.0  7.9  7.3  5.5  8.4  8.9  ...  6.6  7.6  5.9   F   \n",
            "2    5.4  3.9  3.9  4.0  5.4  5.4  5.3  2.8  6.3  5.4  ...  6.6  6.1  4.4   M   \n",
            "3    5.6  6.8  7.2  7.5  4.3  7.4  5.8  3.2  5.0  4.9  ...  7.9  8.1  4.6   M   \n",
            "4    6.6  6.4  5.3  6.9  5.4  7.3  6.4  5.8  5.1  6.2  ...  7.1  7.3  7.4   M   \n",
            "5    6.0  5.0  6.0  7.3  6.5  7.7  7.9  6.1  5.4  5.5  ...  6.1  7.5  7.2   M   \n",
            "..   ...  ...  ...  ...  ...  ...  ...  ...  ...  ...  ...  ...  ...  ...  ..   \n",
            "96   8.6  6.9  7.4  8.8  7.6  5.8  7.3  5.7  8.9  6.8  ...  6.3  6.1  6.2   F   \n",
            "97   3.7  5.4  6.0  5.1  5.5  3.9  6.1  4.4  4.1  4.8  ...  7.9  7.5  4.4   F   \n",
            "98   8.8  5.5  7.4  7.7  6.2  7.3  8.1  4.5  9.5  7.3  ...  9.6  8.4  5.8   M   \n",
            "99   2.7  1.8  3.4  5.3  4.5  7.9  4.9  3.8  2.8  5.7  ...  6.6  5.2  5.9   M   \n",
            "100  4.1  5.2  4.9  5.3  5.5  5.4  7.2  5.4  4.4  6.4  ...  5.6  6.6  5.8   M   \n",
            "\n",
            "     DT   KV   DH1   DH2   DH3  KT  \n",
            "STT                                 \n",
            "1   NaN  2NT  3.25  3.25  4.50  A1  \n",
            "2   NaN    1  6.00  4.00  3.50   C  \n",
            "3   NaN    1  5.00  6.75  4.00   C  \n",
            "4   NaN    1  4.25  4.25  5.25  D1  \n",
            "5   NaN  2NT  4.25  4.50  5.00   A  \n",
            "..   ..  ...   ...   ...   ...  ..  \n",
            "96  NaN    1  5.25  1.50  6.25   C  \n",
            "97  NaN    1  5.25  3.75  4.75   C  \n",
            "98  NaN  2NT  7.00  8.00  4.00   C  \n",
            "99  NaN    1  5.00  3.50  5.50   C  \n",
            "100 NaN  2NT  5.25  2.50  4.25   C  \n",
            "\n",
            "[100 rows x 55 columns]\n",
            "Câu 7:\n",
            "\n",
            "Dứ liệu sau khi thêm tào các cột TBM:\n",
            "       T1   L1   H1   S1   V1   X1   D1   N1   T2   L2  ...  GT  DT   KV   DH1  \\\n",
            "STT                                                    ...                      \n",
            "1    7.2  7.3  6.3  7.3  7.0  7.9  7.3  5.5  8.4  8.9  ...   F NaN  2NT  3.25   \n",
            "2    5.4  3.9  3.9  4.0  5.4  5.4  5.3  2.8  6.3  5.4  ...   M NaN    1  6.00   \n",
            "3    5.6  6.8  7.2  7.5  4.3  7.4  5.8  3.2  5.0  4.9  ...   M NaN    1  5.00   \n",
            "4    6.6  6.4  5.3  6.9  5.4  7.3  6.4  5.8  5.1  6.2  ...   M NaN    1  4.25   \n",
            "5    6.0  5.0  6.0  7.3  6.5  7.7  7.9  6.1  5.4  5.5  ...   M NaN  2NT  4.25   \n",
            "..   ...  ...  ...  ...  ...  ...  ...  ...  ...  ...  ...  ..  ..  ...   ...   \n",
            "96   8.6  6.9  7.4  8.8  7.6  5.8  7.3  5.7  8.9  6.8  ...   F NaN    1  5.25   \n",
            "97   3.7  5.4  6.0  5.1  5.5  3.9  6.1  4.4  4.1  4.8  ...   F NaN    1  5.25   \n",
            "98   8.8  5.5  7.4  7.7  6.2  7.3  8.1  4.5  9.5  7.3  ...   M NaN  2NT  7.00   \n",
            "99   2.7  1.8  3.4  5.3  4.5  7.9  4.9  3.8  2.8  5.7  ...   M NaN    1  5.00   \n",
            "100  4.1  5.2  4.9  5.3  5.5  5.4  7.2  5.4  4.4  6.4  ...   M NaN  2NT  5.25   \n",
            "\n",
            "      DH2   DH3  KT  TBM1  TBM2  TBM3  \n",
            "STT                                    \n",
            "1    3.25  4.50  A1  7.00  7.54  7.01  \n",
            "2    4.00  3.50   C  4.69  5.47  5.07  \n",
            "3    6.75  4.00   C  5.77  5.38  6.04  \n",
            "4    4.25  5.25  D1  6.21  5.20  6.88  \n",
            "5    4.50  5.00   A  6.50  6.36  6.99  \n",
            "..    ...   ...  ..   ...   ...   ...  \n",
            "96   1.50  6.25   C  7.43  7.42  6.83  \n",
            "97   3.75  4.75   C  4.93  5.15  6.39  \n",
            "98   8.00  4.00   C  7.05  7.84  7.67  \n",
            "99   3.50  5.50   C  4.15  4.72  5.29  \n",
            "100  2.50  4.25   C  5.26  5.72  5.85  \n",
            "\n",
            "[100 rows x 58 columns]\n",
            "Câu 8:Xếp loại\n",
            "\n",
            "      T1   L1   H1   S1   V1   X1   D1   N1   T2   L2  ...   DH1   DH2   DH3  \\\n",
            "STT                                                    ...                     \n",
            "1    7.2  7.3  6.3  7.3  7.0  7.9  7.3  5.5  8.4  8.9  ...  3.25  3.25  4.50   \n",
            "2    5.4  3.9  3.9  4.0  5.4  5.4  5.3  2.8  6.3  5.4  ...  6.00  4.00  3.50   \n",
            "3    5.6  6.8  7.2  7.5  4.3  7.4  5.8  3.2  5.0  4.9  ...  5.00  6.75  4.00   \n",
            "4    6.6  6.4  5.3  6.9  5.4  7.3  6.4  5.8  5.1  6.2  ...  4.25  4.25  5.25   \n",
            "5    6.0  5.0  6.0  7.3  6.5  7.7  7.9  6.1  5.4  5.5  ...  4.25  4.50  5.00   \n",
            "..   ...  ...  ...  ...  ...  ...  ...  ...  ...  ...  ...   ...   ...   ...   \n",
            "96   8.6  6.9  7.4  8.8  7.6  5.8  7.3  5.7  8.9  6.8  ...  5.25  1.50  6.25   \n",
            "97   3.7  5.4  6.0  5.1  5.5  3.9  6.1  4.4  4.1  4.8  ...  5.25  3.75  4.75   \n",
            "98   8.8  5.5  7.4  7.7  6.2  7.3  8.1  4.5  9.5  7.3  ...  7.00  8.00  4.00   \n",
            "99   2.7  1.8  3.4  5.3  4.5  7.9  4.9  3.8  2.8  5.7  ...  5.00  3.50  5.50   \n",
            "100  4.1  5.2  4.9  5.3  5.5  5.4  7.2  5.4  4.4  6.4  ...  5.25  2.50  4.25   \n",
            "\n",
            "     KT  TBM1  TBM2  TBM3  XL1  XL2  XL3  \n",
            "STT                                       \n",
            "1    A1  7.00  7.54  7.01    K    K    K  \n",
            "2     C  4.69  5.47  5.07    Y   TB   TB  \n",
            "3     C  5.77  5.38  6.04   TB   TB   TB  \n",
            "4    D1  6.21  5.20  6.88   TB   TB    K  \n",
            "5     A  6.50  6.36  6.99   TB   TB    K  \n",
            "..   ..   ...   ...   ...  ...  ...  ...  \n",
            "96    C  7.43  7.42  6.83    K    K    K  \n",
            "97    C  4.93  5.15  6.39    Y   TB   TB  \n",
            "98    C  7.05  7.84  7.67    K    K    K  \n",
            "99    C  4.15  4.72  5.29    Y    Y   TB  \n",
            "100   C  5.26  5.72  5.85   TB   TB   TB  \n",
            "\n",
            "[100 rows x 61 columns]\n",
            "Câu 9:\n",
            "\n",
            "      T1   L1   H1   S1   V1   X1   D1   N1   T2   L2  ...  KT  TBM1  TBM2  \\\n",
            "STT                                                    ...                   \n",
            "1    7.2  7.3  6.3  7.3  7.0  7.9  7.3  5.5  8.4  8.9  ...  A1  7.00  7.54   \n",
            "2    5.4  3.9  3.9  4.0  5.4  5.4  5.3  2.8  6.3  5.4  ...   C  4.69  5.47   \n",
            "3    5.6  6.8  7.2  7.5  4.3  7.4  5.8  3.2  5.0  4.9  ...   C  5.77  5.38   \n",
            "4    6.6  6.4  5.3  6.9  5.4  7.3  6.4  5.8  5.1  6.2  ...  D1  6.21  5.20   \n",
            "5    6.0  5.0  6.0  7.3  6.5  7.7  7.9  6.1  5.4  5.5  ...   A  6.50  6.36   \n",
            "..   ...  ...  ...  ...  ...  ...  ...  ...  ...  ...  ...  ..   ...   ...   \n",
            "96   8.6  6.9  7.4  8.8  7.6  5.8  7.3  5.7  8.9  6.8  ...   C  7.43  7.42   \n",
            "97   3.7  5.4  6.0  5.1  5.5  3.9  6.1  4.4  4.1  4.8  ...   C  4.93  5.15   \n",
            "98   8.8  5.5  7.4  7.7  6.2  7.3  8.1  4.5  9.5  7.3  ...   C  7.05  7.84   \n",
            "99   2.7  1.8  3.4  5.3  4.5  7.9  4.9  3.8  2.8  5.7  ...   C  4.15  4.72   \n",
            "100  4.1  5.2  4.9  5.3  5.5  5.4  7.2  5.4  4.4  6.4  ...   C  5.26  5.72   \n",
            "\n",
            "     TBM3  XL1  XL2  XL3  US_TBM1  US_TBM2  US_TBM3  \n",
            "STT                                                  \n",
            "1    7.01    K    K    K    2.800    3.016    2.804  \n",
            "2    5.07    Y   TB   TB    1.876    2.188    2.028  \n",
            "3    6.04   TB   TB   TB    2.308    2.152    2.416  \n",
            "4    6.88   TB   TB    K    2.484    2.080    2.752  \n",
            "5    6.99   TB   TB    K    2.600    2.544    2.796  \n",
            "..    ...  ...  ...  ...      ...      ...      ...  \n",
            "96   6.83    K    K    K    2.972    2.968    2.732  \n",
            "97   6.39    Y   TB   TB    1.972    2.060    2.556  \n",
            "98   7.67    K    K    K    2.820    3.136    3.068  \n",
            "99   5.29    Y    Y   TB    1.660    1.888    2.116  \n",
            "100  5.85   TB   TB   TB    2.104    2.288    2.340  \n",
            "\n",
            "[100 rows x 64 columns]\n",
            "Câu 10:\n",
            "\n",
            "      T1   L1   H1   S1   V1   X1   D1   N1   T2   L2  ...  TBM1  TBM2  TBM3  \\\n",
            "STT                                                    ...                     \n",
            "1    7.2  7.3  6.3  7.3  7.0  7.9  7.3  5.5  8.4  8.9  ...  7.00  7.54  7.01   \n",
            "2    5.4  3.9  3.9  4.0  5.4  5.4  5.3  2.8  6.3  5.4  ...  4.69  5.47  5.07   \n",
            "3    5.6  6.8  7.2  7.5  4.3  7.4  5.8  3.2  5.0  4.9  ...  5.77  5.38  6.04   \n",
            "4    6.6  6.4  5.3  6.9  5.4  7.3  6.4  5.8  5.1  6.2  ...  6.21  5.20  6.88   \n",
            "5    6.0  5.0  6.0  7.3  6.5  7.7  7.9  6.1  5.4  5.5  ...  6.50  6.36  6.99   \n",
            "6    9.3  7.6  7.9  8.6  7.0  7.3  7.7  7.9  9.6  7.8  ...  7.96  8.54  7.38   \n",
            "7    2.8  3.9  5.5  6.9  5.0  7.3  4.6  5.2  4.4  6.7  ...  4.90  5.60  6.01   \n",
            "8    8.3  6.0  7.6  5.1  7.5  4.7  5.8  7.2  6.7  6.3  ...  6.80  6.87  7.03   \n",
            "9    6.5  6.3  7.6  6.0  5.5  7.1  6.3  5.0  7.3  6.8  ...  6.23  6.72  7.56   \n",
            "10   7.3  5.9  4.7  7.1  6.7  7.9  6.7  7.7  8.0  6.8  ...  6.80  7.25  7.03   \n",
            "\n",
            "     XL1  XL2  XL3  US_TBM1  US_TBM2  US_TBM3  KQXT  \n",
            "STT                                                  \n",
            "1      K    K    K    2.800    3.016    2.804   0.0  \n",
            "2      Y   TB   TB    1.876    2.188    2.028   0.0  \n",
            "3     TB   TB   TB    2.308    2.152    2.416   1.0  \n",
            "4     TB   TB    K    2.484    2.080    2.752   0.0  \n",
            "5     TB   TB    K    2.600    2.544    2.796   0.0  \n",
            "6      K    G    K    3.184    3.416    2.952   0.0  \n",
            "7      Y   TB   TB    1.960    2.240    2.404   1.0  \n",
            "8      K    K    K    2.720    2.748    2.812   0.0  \n",
            "9     TB    K    K    2.492    2.688    3.024   0.0  \n",
            "10     K    K    K    2.720    2.900    2.812   0.0  \n",
            "\n",
            "[10 rows x 65 columns]\n",
            "Cau 11\n"
          ]
        }
      ]
    }
  ]
}